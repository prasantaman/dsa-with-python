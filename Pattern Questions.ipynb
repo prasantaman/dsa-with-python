{
 "cells": [
  {
   "cell_type": "markdown",
   "id": "ee5f0698-855a-490d-8078-ede98bb5f354",
   "metadata": {},
   "source": [
    "# Patterns in python"
   ]
  },
  {
   "cell_type": "code",
   "execution_count": 2,
   "id": "3ebcdca4-d90b-4734-bde7-2ebb936e6938",
   "metadata": {},
   "outputs": [
    {
     "name": "stdout",
     "output_type": "stream",
     "text": [
      "*\n",
      "**\n",
      "***\n",
      "****\n",
      "*****\n"
     ]
    }
   ],
   "source": [
    "n = 5 \n",
    "for  i in range(1, n+1): \n",
    "    print(\"*\" * i)"
   ]
  },
  {
   "cell_type": "code",
   "execution_count": 2,
   "id": "aaec216e-02b9-443f-94c9-1cdc6eabc2bd",
   "metadata": {},
   "outputs": [
    {
     "name": "stdout",
     "output_type": "stream",
     "text": [
      "1\n",
      "11\n",
      "111\n",
      "1111\n",
      "11111\n"
     ]
    }
   ],
   "source": [
    "n = 5 \n",
    "for i in range(1,n+1): \n",
    "    for c in range(1, i+1): \n",
    "        print(\"1\", end = \" \");#end=\" \" lagane se nayi line mein jaane ke bajaye ek space ke saath agla output aayega (same line mein)\n",
    "    print()"
   ]
  },
  {
   "cell_type": "code",
   "execution_count": 4,
   "id": "556e78ab-22b7-4733-b4dc-a5a1a085d154",
   "metadata": {},
   "outputs": [
    {
     "name": "stdout",
     "output_type": "stream",
     "text": [
      "1 \n",
      "1 2 \n",
      "1 2 3 \n",
      "1 2 3 4 \n",
      "1 2 3 4 5 \n"
     ]
    }
   ],
   "source": [
    "n = 5 \n",
    "for i in range(1, n+1): \n",
    "    for c in range(1,i+1): \n",
    "        print(c, end=\" \")\n",
    "    print()    \n"
   ]
  },
  {
   "cell_type": "code",
   "execution_count": 5,
   "id": "9903d450-bf70-4422-87ad-bef96175ce82",
   "metadata": {},
   "outputs": [
    {
     "name": "stdout",
     "output_type": "stream",
     "text": [
      "1 \n",
      "2 2 \n",
      "3 3 3 \n",
      "4 4 4 4 \n",
      "5 5 5 5 5 \n"
     ]
    }
   ],
   "source": [
    "n = 5 \n",
    "for i in range(1, n+1): \n",
    "    for c in range(1, i+1): \n",
    "        print(i, end=\" \")\n",
    "    print()    "
   ]
  },
  {
   "cell_type": "code",
   "execution_count": 6,
   "id": "5d4911ad-85b4-42bb-918d-49057c987ce5",
   "metadata": {},
   "outputs": [
    {
     "name": "stdout",
     "output_type": "stream",
     "text": [
      "1 \n",
      "2 3 \n",
      "4 5 6 \n",
      "7 8 9 10 \n",
      "11 12 13 14 15 \n"
     ]
    }
   ],
   "source": [
    "n = 5 \n",
    "x = 1\n",
    "for i in range(1, n+1): \n",
    "    for c in range(1, i+1): \n",
    "        print(x, end=\" \")\n",
    "        x+=1\n",
    "    print()    \n",
    "        "
   ]
  },
  {
   "cell_type": "code",
   "execution_count": 7,
   "id": "89f72051-481a-4429-9608-6dd5e47e5145",
   "metadata": {},
   "outputs": [
    {
     "name": "stdout",
     "output_type": "stream",
     "text": [
      "1 1 1 1 1 \n",
      "1 1 1 1 \n",
      "1 1 1 \n",
      "1 1 \n",
      "1 \n"
     ]
    }
   ],
   "source": [
    "n = 5 \n",
    "for i in range(1, n+1): \n",
    "    for c in range(n-i+1): \n",
    "        print('1', end=\" \")\n",
    "    print()"
   ]
  },
  {
   "cell_type": "code",
   "execution_count": 8,
   "id": "25ae7c23-de31-4531-af24-1e9b3f323ad3",
   "metadata": {},
   "outputs": [
    {
     "name": "stdout",
     "output_type": "stream",
     "text": [
      "1 1 1 1 1 \n",
      "1 1 1 1 \n",
      "1 1 1 \n",
      "1 1 \n",
      "1 \n"
     ]
    }
   ],
   "source": [
    "n = 5 \n",
    "for i in range(n, 0,-1): \n",
    "    for c in range(i): \n",
    "        print(\"1\", end=\" \")\n",
    "\n",
    "    print()"
   ]
  },
  {
   "cell_type": "code",
   "execution_count": 9,
   "id": "2df61311-ddaa-4854-8d09-f1674f8b70c9",
   "metadata": {},
   "outputs": [
    {
     "name": "stdout",
     "output_type": "stream",
     "text": [
      "1 \n",
      "1 1 \n",
      "1 1 1 \n",
      "1 1 1 1 \n",
      "1 1 1 \n",
      "1 1 \n",
      "1 \n"
     ]
    }
   ],
   "source": [
    "n = 4 \n",
    "for i in range(1,n+1): \n",
    "    for c in range(1,i+1): \n",
    "        print(\"1\", end=\" \")\n",
    "    print() \n",
    "for i in range(1, n): \n",
    "    for c in range(n-i): \n",
    "        print(\"1\", end=\" \")\n",
    "    print()    "
   ]
  },
  {
   "cell_type": "code",
   "execution_count": 10,
   "id": "18fe76b2-2c3e-418f-bb79-6f347491caa8",
   "metadata": {},
   "outputs": [
    {
     "name": "stdout",
     "output_type": "stream",
     "text": [
      "1 \n",
      "1 1 \n",
      "1 1 1 \n",
      "1 1 1 1 \n",
      "1 1 1 \n",
      "1 1 \n",
      "1 \n",
      "\n"
     ]
    }
   ],
   "source": [
    "n = 8\n",
    "for i in range(1,n+1): \n",
    "    if (i<=4): \n",
    "        for c in range(1, i+1): \n",
    "            print(\"1\", end=\" \")\n",
    "        print()\n",
    "    else: \n",
    "        for c in range(n-i): # n = 8 and i = 5 (8-5)\n",
    "            \n",
    "            print(\"1\", end=\" \")\n",
    "        print() \n",
    "        \n",
    "        \n"
   ]
  },
  {
   "cell_type": "code",
   "execution_count": 1,
   "id": "1f31040d-0d76-4ef7-8fe8-d24aee5deb71",
   "metadata": {},
   "outputs": [
    {
     "name": "stdout",
     "output_type": "stream",
     "text": [
      "1 \n",
      "2 2 \n",
      "3 3 3 \n",
      "4 4 4 4 \n",
      "1 1 1 \n",
      "2 2 \n",
      "3 \n"
     ]
    }
   ],
   "source": [
    "n = 4 \n",
    "for i in range(1,n+1): \n",
    "    for c in range(1,i+1): \n",
    "        print(i, end=\" \")\n",
    "    print() \n",
    "for i in range(1, n): \n",
    "    for c in range(n-i): \n",
    "        print(i, end=\" \")\n",
    "    print()   "
   ]
  },
  {
   "cell_type": "code",
   "execution_count": 12,
   "id": "1a45f0db-43ce-411c-b24a-05802464f89b",
   "metadata": {},
   "outputs": [
    {
     "name": "stdout",
     "output_type": "stream",
     "text": [
      "1 \n",
      "2 2 \n",
      "3 3 3 \n",
      "4 4 4 4 \n",
      "3 3 3 \n",
      "2 2 \n",
      "1 \n"
     ]
    }
   ],
   "source": [
    "n = 4 \n",
    "for i in range(1, n+1): \n",
    "    for c in range(1, i+1): \n",
    "        print(i, end = \" \")\n",
    "    print()    \n",
    "for i in range(n-1,0, -1): \n",
    "    for c in range(1, i+1): \n",
    "        print(i, end = \" \")\n",
    "    print()"
   ]
  },
  {
   "cell_type": "code",
   "execution_count": 13,
   "id": "0f70aaa9-0be1-4f6a-be1e-4c347921b667",
   "metadata": {},
   "outputs": [
    {
     "name": "stdout",
     "output_type": "stream",
     "text": [
      "1 1 1 1 \n",
      "1 1 1 \n",
      "1 1 \n",
      "1 \n",
      "1 1 \n",
      "1 1 1 \n",
      "1 1 1 1 \n"
     ]
    }
   ],
   "source": [
    "n = 4 \n",
    "for i in range(n, 0, -1): \n",
    "    for c in range(i): \n",
    "        print(\"1\", end = \" \")\n",
    "    print()  \n",
    "for i in range(2, n+1): \n",
    "    for c in range(1, i+1): \n",
    "        print(\"1\", end = \" \")\n",
    "    print()    "
   ]
  },
  {
   "cell_type": "code",
   "execution_count": 14,
   "id": "261ae3d9-087f-4d78-b76e-5ec8d686faef",
   "metadata": {},
   "outputs": [
    {
     "name": "stdout",
     "output_type": "stream",
     "text": [
      "    *  \n",
      "   * *  \n",
      "  * * *  \n",
      " * * * *  \n",
      "* * * * *  \n"
     ]
    }
   ],
   "source": [
    "n = 5\n",
    "for i in range(n):\n",
    "    print(\" \" * (n - i - 1) + \"* \" * (i + 1), end = \" \")\n",
    "    print()\n"
   ]
  },
  {
   "cell_type": "code",
   "execution_count": 15,
   "id": "0813658e-a971-4ce4-a331-19250defd3c6",
   "metadata": {},
   "outputs": [
    {
     "name": "stdout",
     "output_type": "stream",
     "text": [
      "     *  \n",
      "    * *  \n",
      "   * * *  \n",
      "  * * * *  \n",
      " * * * * *  \n"
     ]
    }
   ],
   "source": [
    "n = 5 \n",
    "for i in range(1,n+1): \n",
    "    print(\" \"*(n-i), \"* \"*i, end = \" \")\n",
    "    print()"
   ]
  },
  {
   "cell_type": "code",
   "execution_count": 16,
   "id": "da5e2253-7662-4318-bbc9-fe8a9edf3e82",
   "metadata": {},
   "outputs": [
    {
     "name": "stdout",
     "output_type": "stream",
     "text": [
      "    * \n",
      "   ** \n",
      "  *** \n",
      " **** \n",
      "***** \n"
     ]
    }
   ],
   "source": [
    "# teach infinity\n",
    "n = 5 \n",
    "for i in range(n): # 0 to n-1\n",
    "    print(\" \" * (n-i-1)+ \"*\" * (i+1), end = \" \")\n",
    "    print()\n",
    "  "
   ]
  },
  {
   "cell_type": "code",
   "execution_count": 17,
   "id": "dab1e9fd-4a1c-4e67-81e5-8aa255cdede6",
   "metadata": {},
   "outputs": [
    {
     "name": "stdout",
     "output_type": "stream",
     "text": [
      " ********* \n",
      "  ******* \n",
      "   ***** \n",
      "    *** \n",
      "     * \n",
      "    *** \n",
      "   ***** \n",
      "  ******* \n",
      " ********* \n"
     ]
    }
   ],
   "source": [
    "n = 5 \n",
    "for i in range(n,0,-1): \n",
    "    print(\" \"*(n-i), \"*\"*(2*i-1), end = \" \")\n",
    "    print()\n",
    "for i in range(2,n+1): \n",
    "    print(\" \"*(n-i), \"*\"*(2*i-1), end = \" \")\n",
    "    print()    "
   ]
  },
  {
   "cell_type": "code",
   "execution_count": 47,
   "id": "cf135e14-373e-4fcd-bab7-2430f67acd47",
   "metadata": {},
   "outputs": [
    {
     "name": "stdout",
     "output_type": "stream",
     "text": [
      "                              111111"
     ]
    }
   ],
   "source": [
    "n = 7\n",
    "for i in range(1,n+1): \n",
    "    if(n<=4): \n",
    "        for s in range(2,i+1): \n",
    "            print(\" \", end = \" \")\n",
    "        print() \n",
    "        for c in range(4,0,-1): \n",
    "            print(\"1\", end = \" \")\n",
    "        print()\n",
    "    else: \n",
    "        for s in range(6,0,-1): \n",
    "            print(\" \", end = \" \")\n",
    "        print()\n",
    "        for c in range(5,n+1): \n",
    "            print(\"1\", end = \"\")\n",
    "        print()    \n",
    "        \n",
    "            \n",
    "        \n",
    "        \n",
    "            \n",
    "            \n",
    "            "
   ]
  },
  {
   "cell_type": "code",
   "execution_count": 51,
   "id": "d478bf2f-568c-445d-b349-fb1213664e60",
   "metadata": {},
   "outputs": [
    {
     "name": "stdout",
     "output_type": "stream",
     "text": [
      "1111\n",
      " 111\n",
      "  11\n",
      "   1\n",
      "  11\n",
      " 111\n",
      "1111\n"
     ]
    }
   ],
   "source": [
    "n = 4\n",
    "for i in range(n):\n",
    "    print(' ' * i + '1' * (n - i))\n",
    "for i in range(n - 2, -1, -1):\n",
    "    print(' ' * i + '1' * (n - i))"
   ]
  },
  {
   "cell_type": "code",
   "execution_count": 55,
   "id": "974316c7-ad8f-4ef1-98a8-1e0ce1b29747",
   "metadata": {},
   "outputs": [
    {
     "name": "stdout",
     "output_type": "stream",
     "text": [
      "1     1\n",
      "11   11\n",
      "111 111\n",
      "1111111\n"
     ]
    }
   ],
   "source": [
    "l = 4\n",
    "s1 = 1\n",
    "l1 = 1\n",
    "for l in range(1, n+1): \n",
    "    for c in range(1,l+1):\n",
    "        print(\"1\", end = \"\")\n",
    "    for s in range(5-(s1-1)): \n",
    "        print(\" \", end = \"\")\n",
    "    s1+=2    \n",
    "    for c in range(1,l1+1):\n",
    "        print(\"1\", end = \"\")\n",
    "    if l != 3:\n",
    "        l1+=1\n",
    "\n",
    "    print()\n",
    "    "
   ]
  },
  {
   "cell_type": "code",
   "execution_count": 63,
   "id": "b88ee197-5dfe-42dc-9dd3-a6439ac96a4f",
   "metadata": {},
   "outputs": [
    {
     "name": "stdout",
     "output_type": "stream",
     "text": [
      "1   1\n",
      "11  11\n",
      "111 111\n",
      "11111111\n"
     ]
    }
   ],
   "source": [
    "n = 4 \n",
    "for i in range(n): \n",
    "    left = '1'*(i+1)\n",
    "    right = '1'*(i+1)\n",
    "    space = ' '*(n-i-1)\n",
    "    print(left+space+right)"
   ]
  },
  {
   "cell_type": "code",
   "execution_count": 100,
   "id": "bbb8540f-cefb-461d-a15d-053fd6097489",
   "metadata": {},
   "outputs": [
    {
     "name": "stdout",
     "output_type": "stream",
     "text": [
      "1111111\n",
      "111111\n",
      "11  11\n",
      "1    1\n"
     ]
    }
   ],
   "source": [
    "l = 4 # false\n",
    "l1 =1\n",
    "s1 = -2\n",
    "for l in range(1, l+1):\n",
    "    for c in range(4,l-1,-1): \n",
    "        print(\"1\", end = \"\")\n",
    "   \n",
    "    for s in range(s1):\n",
    "        print(\" \", end = \"\")\n",
    "    s1+=2  \n",
    "    for c in range(3,l1-1,-1):\n",
    "        print(\"1\", end = \"\")\n",
    "    if (l!=1):\n",
    "        l1+=1\n",
    "    \n",
    "    print()    "
   ]
  },
  {
   "cell_type": "code",
   "execution_count": 92,
   "id": "9f26b212-db9b-4c46-b919-4aeda15e97a9",
   "metadata": {},
   "outputs": [
    {
     "name": "stdout",
     "output_type": "stream",
     "text": [
      "abcdefgfedcba\n",
      "abcdef fedcba\n",
      "abcde   edcba\n",
      "abcd     dcba\n",
      "abc       cba\n",
      "ab         ba\n",
      "a           a\n"
     ]
    }
   ],
   "source": [
    "l = 7 \n",
    "s1 = -2\n",
    "end = 'g'\n",
    "\n",
    " \n",
    "for l in range(1, l+1): \n",
    "    for c in range(ord('a'), ord(end)+1):## Convert characters to ASCII\n",
    "        print(chr(c), end = \"\")\n",
    "        \n",
    "    for s in range(s1+1):\n",
    "        print(\" \", end = \"\")\n",
    "    s1+=2  \n",
    "    if(l==1):\n",
    "        end = ord(end)-1\n",
    "        end = chr(end)\n",
    "        \n",
    "    for c in range(ord(end),ord('a')-1,-1):\n",
    "        print(chr(c), end = \"\")\n",
    "    if(l!=1):\n",
    "        end = ord(end)-1\n",
    "        end = chr(end)    \n",
    "        \n",
    "    print()\n",
    "    \n",
    "        \n",
    "        \n",
    "    "
   ]
  },
  {
   "cell_type": "code",
   "execution_count": 67,
   "id": "0c15308e-3c3f-4c1a-b803-aff63d29e2e0",
   "metadata": {},
   "outputs": [
    {
     "name": "stdout",
     "output_type": "stream",
     "text": [
      "103\n",
      "f\n"
     ]
    }
   ],
   "source": [
    "end = 'g'\n",
    "print(ord(end))\n",
    "end = ord(end)-1\n",
    "end = chr(end)\n",
    "print(end)"
   ]
  },
  {
   "cell_type": "code",
   "execution_count": 116,
   "id": "b6584e41-a4ac-49fa-9b7b-c9b28d4bcf31",
   "metadata": {},
   "outputs": [
    {
     "name": "stdout",
     "output_type": "stream",
     "text": [
      "   * \n",
      "  * * \n",
      " * * * \n",
      "* * * * \n"
     ]
    }
   ],
   "source": [
    "l = 4 \n",
    "for i in range(1, l+1): \n",
    "    for s in range(l-i,0,-1): \n",
    "        print(\" \", end = \"\")\n",
    "    for c in range(1,i+1): \n",
    "        print(\"* \", end = \"\")\n",
    "    print()    "
   ]
  },
  {
   "cell_type": "code",
   "execution_count": 138,
   "id": "8df856a2-4673-4585-a24e-4ce1c9ef7256",
   "metadata": {},
   "outputs": [
    {
     "name": "stdout",
     "output_type": "stream",
     "text": [
      " * * * * \n",
      "  * * * \n",
      "   * * \n",
      "    * \n"
     ]
    }
   ],
   "source": [
    "l = 4 \n",
    "for i in range(1, l+1): \n",
    "    for s in range(0,i): \n",
    "        print(\" \", end = \"\")\n",
    "    for c in range(l-i, 0-1, -1): \n",
    "        print(\"* \", end = \"\")\n",
    "    print()    "
   ]
  },
  {
   "cell_type": "code",
   "execution_count": 146,
   "id": "555b2151-9f5f-4f04-b455-310654826bae",
   "metadata": {},
   "outputs": [
    {
     "name": "stdout",
     "output_type": "stream",
     "text": [
      "* * * * \n",
      " * * * \n",
      "  * * \n",
      "   * \n",
      "  * * \n",
      " * * * \n",
      "* * * * \n"
     ]
    }
   ],
   "source": [
    "l = 4 \n",
    "for i in range(1, l+1): \n",
    "    for s in range(0,i-1): \n",
    "        print(\" \", end = \"\")\n",
    "    for c in range(l-i, 0-1, -1): \n",
    "        print(\"* \", end = \"\")\n",
    "    print()    \n",
    " \n",
    "for i in range(2, l+1): \n",
    "    for s in range(l-i,0,-1): \n",
    "        print(\" \", end = \"\")\n",
    "    for c in range(1,i+1): \n",
    "        print(\"* \", end = \"\")\n",
    "    print()   \n",
    "    \n",
    "    \n",
    "    "
   ]
  },
  {
   "cell_type": "code",
   "execution_count": null,
   "id": "925185ee-e402-4fdb-8907-a998cfa21709",
   "metadata": {},
   "outputs": [],
   "source": []
  }
 ],
 "metadata": {
  "kernelspec": {
   "display_name": "Python 3 (ipykernel)",
   "language": "python",
   "name": "python3"
  },
  "language_info": {
   "codemirror_mode": {
    "name": "ipython",
    "version": 3
   },
   "file_extension": ".py",
   "mimetype": "text/x-python",
   "name": "python",
   "nbconvert_exporter": "python",
   "pygments_lexer": "ipython3",
   "version": "3.12.7"
  }
 },
 "nbformat": 4,
 "nbformat_minor": 5
}
