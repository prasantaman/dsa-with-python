{
 "cells": [
  {
   "cell_type": "markdown",
   "id": "c5a3b8ad-4a03-424e-89dd-8bbb65a8c19b",
   "metadata": {},
   "source": [
    "# Tuples"
   ]
  },
  {
   "cell_type": "code",
   "execution_count": 2,
   "id": "14b72acf-dc55-47db-99a9-d302cfb369be",
   "metadata": {},
   "outputs": [],
   "source": [
    "# A tuple is an immutable, ordered collection of elements in Python that allows duplicate\n",
    "# values. It is defined using parentheses () and can store heterogeneous data types. Once \n",
    "# created, its elements cannot be modified, making it a fixed and hashable data structure.\n",
    "# Tuples are commonly used for storing related pieces of information where immutability \n",
    "# ensures data integrity\n",
    "# tuples are faster than list \n",
    "# use less memory than list \n",
    "# tuples used for Fixed Data and List used for Dynamic Data \n",
    "# faster access (tuples are faster than lists)."
   ]
  },
  {
   "cell_type": "markdown",
   "id": "a7c3b834-b43e-4065-b7fa-63d57cb53e0b",
   "metadata": {},
   "source": [
    "## Creation "
   ]
  },
  {
   "cell_type": "code",
   "execution_count": 12,
   "id": "7e138954-6beb-436a-8adb-bd19b108bf7f",
   "metadata": {},
   "outputs": [
    {
     "name": "stdout",
     "output_type": "stream",
     "text": [
      "(1, 2, 3, 4, 5)\n",
      "<class 'tuple'>\n",
      "80\n"
     ]
    }
   ],
   "source": [
    "# Creating a tuple\n",
    "import sys \n",
    "my_tuple = (1, 2, 3, 4, 5)\n",
    "print(my_tuple)  # Output: (1, 2, 3, 4, 5)\n",
    "print(type(my_tuple))\n",
    "print(sys.getsizeof(my_tuple))"
   ]
  },
  {
   "cell_type": "code",
   "execution_count": 8,
   "id": "55377624-c8e5-438d-8cc8-ce6dcfd385fa",
   "metadata": {},
   "outputs": [
    {
     "name": "stdout",
     "output_type": "stream",
     "text": [
      "(10, 'Hello', 3.14, True)\n"
     ]
    }
   ],
   "source": [
    "#Tuple with Different Data Types\n",
    "mixed_tuple = (10, \"Hello\", 3.14, True)\n",
    "print(mixed_tuple)  # Output: (10, \"Hello\", 3.14, True)\n"
   ]
  },
  {
   "cell_type": "code",
   "execution_count": 18,
   "id": "89e77617-0799-497e-860c-5a960db459f2",
   "metadata": {},
   "outputs": [
    {
     "name": "stdout",
     "output_type": "stream",
     "text": [
      "<class 'tuple'>\n",
      "(5,)\n",
      "<class 'int'>\n",
      "(5,)\n"
     ]
    }
   ],
   "source": [
    "#Single Element Tuple (Important)\n",
    "single_element_tuple = (5,)  # Adding a comma is necessary\n",
    "print(type(single_element_tuple))  # Output: <class 'tuple'>\n",
    "print(single_element_tuple)\n",
    "\n",
    "not_a_tuple = (5)  # Without comma, it's just an integer\n",
    "print(type(not_a_tuple))  # Output: <class 'int'>\n",
    "print(single_element_tuple)\n",
    "\n"
   ]
  },
  {
   "cell_type": "code",
   "execution_count": 3,
   "id": "6381807d-99a0-4770-9245-4559c475f8bd",
   "metadata": {},
   "outputs": [
    {
     "name": "stdout",
     "output_type": "stream",
     "text": [
      "(1, 2, 3, 'Python')\n",
      "<class 'tuple'>\n"
     ]
    }
   ],
   "source": [
    "#Tuple Without Parentheses (Packing)\n",
    "#Without Parentheses (Implicit Tuple Creation)\n",
    "packed_tuple = 1, 2, 3, \"Python\"\n",
    "print(packed_tuple)  # Output: (1, 2, 3, \"Python\")\n",
    "print(type(packed_tuple))\n"
   ]
  },
  {
   "cell_type": "code",
   "execution_count": 22,
   "id": "fe76e9bf-f1fc-41b2-a980-7dc827c22b65",
   "metadata": {},
   "outputs": [
    {
     "name": "stdout",
     "output_type": "stream",
     "text": [
      "(1, 2, 3)\n",
      "('a', 'b', 'c')\n",
      "(1, 2, 3)\n"
     ]
    }
   ],
   "source": [
    "#Using the tuple() Constructor\n",
    "t3 = tuple([1, 2, 3])#From an iterable (like a list, string, or set):\n",
    "t4 = tuple(\"abc\")\n",
    "t5 = tuple({1, 2, 3})\n",
    "print(t3)\n",
    "print(t4)\n",
    "print(t5)"
   ]
  },
  {
   "cell_type": "code",
   "execution_count": 26,
   "id": "1dc9458d-9691-46b0-b062-3e5f6a049550",
   "metadata": {},
   "outputs": [
    {
     "name": "stdout",
     "output_type": "stream",
     "text": [
      "()\n",
      "()\n",
      "<class 'tuple'>\n",
      "<class 'tuple'>\n"
     ]
    }
   ],
   "source": [
    "#Creating an Empty Tuple\n",
    "empty_tuple1 = ()\n",
    "empty_tuple2 = tuple()\n",
    "print(empty_tuple1)\n",
    "print(empty_tuple2)\n",
    "print(type(empty_tuple1))\n",
    "print(type(empty_tuple2))"
   ]
  },
  {
   "cell_type": "code",
   "execution_count": 30,
   "id": "d6d30fe7-05d6-4725-887b-342ced6433aa",
   "metadata": {},
   "outputs": [
    {
     "name": "stdout",
     "output_type": "stream",
     "text": [
      "(0, 1, 2, 3, 4)\n"
     ]
    }
   ],
   "source": [
    "#Using Tuple Comprehension (Generator Inside tuple())\n",
    "t = tuple(i for i in range(5))\n",
    "print(t)"
   ]
  },
  {
   "cell_type": "code",
   "execution_count": 38,
   "id": "1cb8f8f9-baec-4b15-8456-066c0202f52c",
   "metadata": {},
   "outputs": [
    {
     "name": "stdout",
     "output_type": "stream",
     "text": [
      "(10, 20, 30)\n"
     ]
    }
   ],
   "source": [
    "# tuple Packing \n",
    "a,b,c = 10, 20, 30\n",
    "t7 = a,b,c\n",
    "print(t7)"
   ]
  },
  {
   "cell_type": "code",
   "execution_count": 42,
   "id": "27611e82-db21-467e-b669-618ec9288a8b",
   "metadata": {},
   "outputs": [
    {
     "name": "stdout",
     "output_type": "stream",
     "text": [
      "('a', 'b', 'c')\n",
      "(1, 2, 3)\n"
     ]
    }
   ],
   "source": [
    "#tuple from dictionary \n",
    "d = {\"a\": 1, \"b\": 2, \"c\": 3}\n",
    "t9 = tuple(d.keys())    # ('a', 'b', 'c')\n",
    "t10 = tuple(d.values())  # (1, 2, 3)\n",
    "print(t9)\n",
    "print(t10) "
   ]
  },
  {
   "cell_type": "code",
   "execution_count": 9,
   "id": "383f3360-cf0b-42ed-a966-d785c970f005",
   "metadata": {},
   "outputs": [
    {
     "name": "stdout",
     "output_type": "stream",
     "text": [
      "((1, 'a'), (2, 'b'), (3, 'c'))\n"
     ]
    }
   ],
   "source": [
    "#Using zip() Function to Create Tuple of Pairs\n",
    "list1 = [1, 2, 3]\n",
    "list2 = ['a', 'b', 'c']\n",
    "t11 = tuple(zip(list1, list2))  # ((1, 'a'), (2, 'b'), (3, 'c'))\n",
    "print(t11)"
   ]
  },
  {
   "cell_type": "code",
   "execution_count": 48,
   "id": "978fdd0a-d9f2-4d2f-9bdf-e5152a0ff463",
   "metadata": {},
   "outputs": [
    {
     "name": "stdout",
     "output_type": "stream",
     "text": [
      "(10, 20, 30)\n"
     ]
    }
   ],
   "source": [
    "# Using eval() (Not Recommended for Security Reasons)\n",
    "t12 = eval(\"(10, 20, 30)\")\n",
    "print(t12)\n"
   ]
  },
  {
   "cell_type": "code",
   "execution_count": 50,
   "id": "87361741-a317-4831-8541-b9c61a200481",
   "metadata": {},
   "outputs": [
    {
     "name": "stdout",
     "output_type": "stream",
     "text": [
      "Person(name='Alice', age=25)\n"
     ]
    }
   ],
   "source": [
    "from collections import namedtuple\n",
    "Person = namedtuple(\"Person\", [\"name\", \"age\"])\n",
    "p1 = Person(\"Alice\", 25)  # Tuple with named fields\n",
    "print(p1)"
   ]
  },
  {
   "cell_type": "markdown",
   "id": "94b2ad65-c9ce-4f57-a485-4dd6a1dbcfff",
   "metadata": {},
   "source": [
    "## Access Elements in a Tuple"
   ]
  },
  {
   "cell_type": "code",
   "execution_count": 53,
   "id": "81c1cba3-cbde-49e2-9f97-4ecfaad53cfe",
   "metadata": {},
   "outputs": [
    {
     "name": "stdout",
     "output_type": "stream",
     "text": [
      "10\n",
      "30\n",
      "50\n",
      "30\n"
     ]
    }
   ],
   "source": [
    "#Accessing Elements Using Indexing ([]) \n",
    "t = (10, 20, 30, 40, 50)\n",
    "\n",
    "print(t[0])   # Output: 10 (First element)\n",
    "print(t[2])   # Output: 30 (Third element)\n",
    "print(t[-1])  # Output: 50 (Last element)\n",
    "print(t[-3])  # Output: 30 (Third element from the end)\n",
    "# Note: Trying to access an index out of range (t[10]) will raise an IndexError"
   ]
  },
  {
   "cell_type": "code",
   "execution_count": 55,
   "id": "ca4bdd76-06c5-4fd6-a922-f429c9300ed7",
   "metadata": {},
   "outputs": [
    {
     "name": "stdout",
     "output_type": "stream",
     "text": [
      "(20, 30, 40)\n",
      "(10, 20, 30)\n",
      "(40, 50, 60)\n",
      "(10, 30, 50)\n",
      "(60, 50, 40, 30, 20, 10)\n"
     ]
    }
   ],
   "source": [
    "# Accessing a Range of Elements Using Slicing ([:])\n",
    "# start (inclusive), end (exclusive), and step (optional)\n",
    "t = (10, 20, 30, 40, 50, 60)\n",
    "\n",
    "print(t[1:4])    # Output: (20, 30, 40) → Elements from index 1 to 3\n",
    "print(t[:3])     # Output: (10, 20, 30) → First three elements\n",
    "print(t[3:])     # Output: (40, 50, 60) → Elements from index 3 to end\n",
    "print(t[::2])    # Output: (10, 30, 50) → Every second element\n",
    "print(t[::-1])   # Output: (60, 50, 40, 30, 20, 10) → Reverse tuple\n"
   ]
  },
  {
   "cell_type": "code",
   "execution_count": 57,
   "id": "52c4a1e8-383e-4c0f-aba0-e8eea222abc6",
   "metadata": {},
   "outputs": [
    {
     "name": "stdout",
     "output_type": "stream",
     "text": [
      "apple\n",
      "banana\n",
      "cherry\n"
     ]
    }
   ],
   "source": [
    "#Accessing Elements Using for Loop\n",
    "t = (\"apple\", \"banana\", \"cherry\")\n",
    "\n",
    "for item in t:\n",
    "    print(item)\n"
   ]
  },
  {
   "cell_type": "code",
   "execution_count": 59,
   "id": "af2724e9-e688-4a35-8a46-c04b5196b5f9",
   "metadata": {},
   "outputs": [
    {
     "name": "stdout",
     "output_type": "stream",
     "text": [
      "Index 0: Python\n",
      "Index 1: Java\n",
      "Index 2: C++\n"
     ]
    }
   ],
   "source": [
    "#Accessing Elements Using enumerate()\n",
    "#enumerate() provides both the index and value while looping\n",
    "t = (\"Python\", \"Java\", \"C++\")\n",
    "\n",
    "for index, value in enumerate(t):\n",
    "    print(f\"Index {index}: {value}\")\n"
   ]
  },
  {
   "cell_type": "code",
   "execution_count": 61,
   "id": "0aa9de93-0251-4f82-b464-64fb2ff09d2a",
   "metadata": {},
   "outputs": [
    {
     "name": "stdout",
     "output_type": "stream",
     "text": [
      "2\n"
     ]
    }
   ],
   "source": [
    "#Accessing Elements Using tuple.index(value)\n",
    "# Finds the index of the first occurrence of a value.\n",
    "t = (10, 20, 30, 40, 50)\n",
    "\n",
    "print(t.index(30))  # Output: 2 (Index of 30)\n",
    "# Note: If the value is not found, it raises a ValueError."
   ]
  },
  {
   "cell_type": "code",
   "execution_count": 63,
   "id": "473c2868-3776-4aae-b713-93a5dc3b1787",
   "metadata": {},
   "outputs": [
    {
     "name": "stdout",
     "output_type": "stream",
     "text": [
      "3\n"
     ]
    }
   ],
   "source": [
    "# Accessing Elements Using tuple.count(value)\n",
    "# Returns how many times a value appears in the tuple\n",
    "t = (10, 20, 30, 20, 40, 20)\n",
    "\n",
    "print(t.count(20))  # Output: 3 (20 appears three times)\n"
   ]
  },
  {
   "cell_type": "code",
   "execution_count": 65,
   "id": "91da90a9-09b7-4303-997f-cf9e625c6a31",
   "metadata": {},
   "outputs": [
    {
     "name": "stdout",
     "output_type": "stream",
     "text": [
      "1 a\n",
      "2 b\n",
      "3 c\n"
     ]
    }
   ],
   "source": [
    "# Accessing Elements Using zip() (If Tuple Contains Multiple Lists)\n",
    "# zip() can be used to access corresponding elements of multiple tuples.\n",
    "t1 = (1, 2, 3)\n",
    "t2 = (\"a\", \"b\", \"c\")\n",
    "\n",
    "for num, char in zip(t1, t2):\n",
    "    print(num, char)\n"
   ]
  },
  {
   "cell_type": "code",
   "execution_count": 67,
   "id": "9b51c3a2-4343-461c-b152-fe952907aa7f",
   "metadata": {},
   "outputs": [
    {
     "name": "stdout",
     "output_type": "stream",
     "text": [
      "10 20 30\n"
     ]
    }
   ],
   "source": [
    "# Accessing Elements Using Unpacking (* Operator)\n",
    "t = (10, 20, 30)\n",
    "\n",
    "a, b, c = t\n",
    "print(a, b, c)  # Output: 10 20 30\n"
   ]
  },
  {
   "cell_type": "code",
   "execution_count": 69,
   "id": "ca2f3a62-53cf-49d9-9e20-8c570598e859",
   "metadata": {},
   "outputs": [
    {
     "name": "stdout",
     "output_type": "stream",
     "text": [
      "10\n",
      "[20, 30, 40]\n",
      "50\n"
     ]
    }
   ],
   "source": [
    "t = (10, 20, 30, 40, 50)\n",
    "\n",
    "a, *b, c = t\n",
    "print(a)  # Output: 10\n",
    "print(b)  # Output: [20, 30, 40] (Middle values as a list)\n",
    "print(c)  # Output: 50\n"
   ]
  },
  {
   "cell_type": "code",
   "execution_count": 71,
   "id": "28671eeb-fba0-474a-9858-9028291f9cb7",
   "metadata": {},
   "outputs": [
    {
     "name": "stdout",
     "output_type": "stream",
     "text": [
      "(20, 30, (40, 50))\n",
      "(40, 50)\n",
      "50\n"
     ]
    }
   ],
   "source": [
    "# Accessing Elements in Nested Tuples\n",
    "t = (10, (20, 30, (40, 50)))\n",
    "\n",
    "print(t[1])       # Output: (20, 30, (40, 50)) → Accessing nested tuple\n",
    "print(t[1][2])    # Output: (40, 50) → Accessing inner tuple\n",
    "print(t[1][2][1]) # Output: 50 → Accessing element inside inner tuple\n"
   ]
  },
  {
   "cell_type": "markdown",
   "id": "d9de455c-98b2-4d84-aa12-f1153a1bb05b",
   "metadata": {},
   "source": [
    "## Tuple Operations in Python"
   ]
  },
  {
   "cell_type": "markdown",
   "id": "663e771b-75d6-42aa-ba18-3293c4c8d9cd",
   "metadata": {},
   "source": [
    "### Merging Tuple  "
   ]
  },
  {
   "cell_type": "code",
   "execution_count": 75,
   "id": "debd88b7-1f38-46d3-92f0-3059105b076d",
   "metadata": {},
   "outputs": [
    {
     "name": "stdout",
     "output_type": "stream",
     "text": [
      "(1, 2, 3, 4, 5, 6)\n"
     ]
    }
   ],
   "source": [
    "# Using + Operator (Concatenation):\n",
    "tuple1 = (1, 2, 3)\n",
    "tuple2 = (4, 5, 6)\n",
    "merged_tuple = tuple1 + tuple2\n",
    "print(merged_tuple)"
   ]
  },
  {
   "cell_type": "code",
   "execution_count": 77,
   "id": "9a4d748f-f37e-4ed4-8e81-5fbcd3963fe5",
   "metadata": {},
   "outputs": [
    {
     "name": "stdout",
     "output_type": "stream",
     "text": [
      "(1, 2, 3, 1, 2, 3)\n"
     ]
    }
   ],
   "source": [
    "# Using * Operator (Repetition):\n",
    "tuple1 = (1, 2, 3)\n",
    "merged_tuple = tuple1 * 2\n",
    "print(merged_tuple)"
   ]
  },
  {
   "cell_type": "code",
   "execution_count": 79,
   "id": "435d6997-bff5-4c1b-a79c-e507f12cd96f",
   "metadata": {},
   "outputs": [
    {
     "name": "stdout",
     "output_type": "stream",
     "text": [
      "(1, 2, 3, 4, 5, 6)\n"
     ]
    }
   ],
   "source": [
    "# Using tuple() Constructor with Unpacking:\n",
    "tuple1 = (1, 2, 3)\n",
    "tuple2 = (4, 5, 6)\n",
    "merged_tuple = tuple((*tuple1, *tuple2))\n",
    "print(merged_tuple)"
   ]
  },
  {
   "cell_type": "code",
   "execution_count": 81,
   "id": "02212a23-1d87-4f57-b041-a418aa911965",
   "metadata": {},
   "outputs": [
    {
     "name": "stdout",
     "output_type": "stream",
     "text": [
      "(1, 2, 3, 4, 5, 6)\n"
     ]
    }
   ],
   "source": [
    "# Using itertools.chain():\n",
    "import itertools\n",
    "\n",
    "tuple1 = (1, 2, 3)\n",
    "tuple2 = (4, 5, 6)\n",
    "merged_tuple = tuple(itertools.chain(tuple1, tuple2))\n",
    "print(merged_tuple)"
   ]
  },
  {
   "cell_type": "code",
   "execution_count": 87,
   "id": "e172c9f2-2a3a-45d9-8476-2aca219f39df",
   "metadata": {},
   "outputs": [
    {
     "name": "stdout",
     "output_type": "stream",
     "text": [
      "(1, 2, 3, 4, 5, 6)\n"
     ]
    }
   ],
   "source": [
    "# Using sum() Function:\n",
    "# sum() function ka use karke tuples ko merge kiya ja sakta hai, lekin ye method sirf tuples ke liye kaam karta hai.\n",
    "tuple1 = (1, 2, 3)\n",
    "tuple2 = (4, 5, 6)\n",
    "merged_tuple = sum((tuple1, tuple2),())\n",
    "print(merged_tuple)"
   ]
  },
  {
   "cell_type": "code",
   "execution_count": 89,
   "id": "3ff35d32-87cb-4b7f-adba-c43a831c0b84",
   "metadata": {},
   "outputs": [
    {
     "name": "stdout",
     "output_type": "stream",
     "text": [
      "((1, 4), (2, 5), (3, 6))\n"
     ]
    }
   ],
   "source": [
    "# Using zip() for Pairwise Merging:\n",
    "# Agar aap tuples ko pairwise merge karna chahte hain (e.g., (1, 4), (2, 5), (3, 6)), toh zip() function ka use kar sakte hain.\n",
    "tuple1 = (1, 2, 3)\n",
    "tuple2 = (4, 5, 6)\n",
    "merged_tuple = tuple(zip(tuple1, tuple2))\n",
    "print(merged_tuple)"
   ]
  },
  {
   "cell_type": "code",
   "execution_count": 91,
   "id": "b04ae6e9-e6e4-4461-a982-3f6394ec6f1f",
   "metadata": {},
   "outputs": [
    {
     "name": "stdout",
     "output_type": "stream",
     "text": [
      "(1, 2, 3, 4, 5, 6, 7, 8, 9)\n"
     ]
    }
   ],
   "source": [
    "# Using functools.reduce():\n",
    "from functools import reduce\n",
    "\n",
    "tuple1 = (1, 2, 3)\n",
    "tuple2 = (4, 5, 6)\n",
    "tuple3 = (7, 8, 9)\n",
    "merged_tuple = reduce(lambda x, y: x + y, (tuple1, tuple2, tuple3))\n",
    "print(merged_tuple)"
   ]
  },
  {
   "cell_type": "markdown",
   "id": "66126c6e-21bc-46b6-a712-7b6a1676cd7b",
   "metadata": {},
   "source": [
    "### Length "
   ]
  },
  {
   "cell_type": "code",
   "execution_count": 94,
   "id": "c4e26eee-5906-4b20-9137-db3a3ae0dd69",
   "metadata": {},
   "outputs": [
    {
     "name": "stdout",
     "output_type": "stream",
     "text": [
      "5\n"
     ]
    }
   ],
   "source": [
    "# Using len() Function:\n",
    "my_tuple = (1, 2, 3, 4, 5)\n",
    "length = len(my_tuple)\n",
    "print(length)"
   ]
  },
  {
   "cell_type": "code",
   "execution_count": 96,
   "id": "4f7f183b-b2f8-49d8-afc0-8e8fbef4a8d0",
   "metadata": {},
   "outputs": [
    {
     "name": "stdout",
     "output_type": "stream",
     "text": [
      "5\n"
     ]
    }
   ],
   "source": [
    "# Using a Loop (Manual Counting):\n",
    "my_tuple = (1, 2, 3, 4, 5)\n",
    "count = 0\n",
    "for i in my_tuple:\n",
    "    count += 1\n",
    "print(count)"
   ]
  },
  {
   "cell_type": "code",
   "execution_count": 98,
   "id": "be6d4a62-8bad-4c52-9626-89cf378973ca",
   "metadata": {},
   "outputs": [
    {
     "name": "stdout",
     "output_type": "stream",
     "text": [
      "5\n"
     ]
    }
   ],
   "source": [
    "# Using __len__() Method:\n",
    "my_tuple = (1, 2, 3, 4, 5)\n",
    "length = my_tuple.__len__()\n",
    "print(length)"
   ]
  },
  {
   "cell_type": "code",
   "execution_count": 104,
   "id": "b8440cab-2757-435a-ba4e-ecd9ac92dc0e",
   "metadata": {},
   "outputs": [
    {
     "name": "stdout",
     "output_type": "stream",
     "text": [
      "5\n"
     ]
    }
   ],
   "source": [
    "# Using sum() Function with Generator Expression\n",
    "my_tuple = (1, 2, 3, 4, 5)\n",
    "length = sum(1 for _ in my_tuple)\n",
    "print(length)"
   ]
  },
  {
   "cell_type": "code",
   "execution_count": 106,
   "id": "8531b28e-5fff-43ab-b385-0e7cf30f359c",
   "metadata": {},
   "outputs": [
    {
     "name": "stdout",
     "output_type": "stream",
     "text": [
      "5\n"
     ]
    }
   ],
   "source": [
    "# Using reduce() from functools:\n",
    "from functools import reduce\n",
    "\n",
    "my_tuple = (1, 2, 3, 4, 5)\n",
    "length = reduce(lambda x, _: x + 1, my_tuple, 0)\n",
    "print(length)"
   ]
  },
  {
   "cell_type": "code",
   "execution_count": 108,
   "id": "1bad3d5f-8070-4323-b99a-be4e1c794ec3",
   "metadata": {},
   "outputs": [
    {
     "name": "stdout",
     "output_type": "stream",
     "text": [
      "5\n"
     ]
    }
   ],
   "source": [
    "# Using pandas Library:\n",
    "import pandas as pd\n",
    "\n",
    "my_tuple = (1, 2, 3, 4, 5)\n",
    "length = pd.Series(my_tuple).size\n",
    "print(length)"
   ]
  },
  {
   "cell_type": "markdown",
   "id": "126dbd12-9dfe-4a2b-8a35-f6af994753f7",
   "metadata": {},
   "source": [
    "### Membership (in, not in)"
   ]
  },
  {
   "cell_type": "code",
   "execution_count": 112,
   "id": "6aaaa6fc-c6e9-4c24-804a-120a205b205e",
   "metadata": {},
   "outputs": [
    {
     "name": "stdout",
     "output_type": "stream",
     "text": [
      "True\n",
      "True\n"
     ]
    }
   ],
   "source": [
    "t = (10, 20, 30, 40)\n",
    "print(20 in t)    # Output: True\n",
    "print(50 not in t) # Output: True"
   ]
  },
  {
   "cell_type": "markdown",
   "id": "a5cf35cc-ec29-430e-ba6a-7a1145187e43",
   "metadata": {},
   "source": [
    "### Minimum & Maximum (min(), max())"
   ]
  },
  {
   "cell_type": "code",
   "execution_count": 116,
   "id": "5c53067d-53a5-4c14-8cb7-bd5f7cd1e1a6",
   "metadata": {},
   "outputs": [
    {
     "name": "stdout",
     "output_type": "stream",
     "text": [
      "5\n",
      "20\n"
     ]
    }
   ],
   "source": [
    "t = (5, 10, 15, 20)\n",
    "print(min(t))  # Output: 5\n",
    "print(max(t))  # Output: 20\n"
   ]
  },
  {
   "cell_type": "markdown",
   "id": "0483c07f-8800-4819-aac6-9ce89692cf17",
   "metadata": {},
   "source": [
    "### Sum of Elements (sum())"
   ]
  },
  {
   "cell_type": "code",
   "execution_count": 119,
   "id": "698f4281-1a00-41c2-a0c1-4b0bdcf85da2",
   "metadata": {},
   "outputs": [
    {
     "name": "stdout",
     "output_type": "stream",
     "text": [
      "60\n"
     ]
    }
   ],
   "source": [
    "t = (10, 20, 30)\n",
    "print(sum(t))  # Output: 60\n"
   ]
  },
  {
   "cell_type": "markdown",
   "id": "f3debd6e-01e6-41cc-962c-878dabd814a6",
   "metadata": {},
   "source": [
    "### Sorting (sorted())"
   ]
  },
  {
   "cell_type": "code",
   "execution_count": 122,
   "id": "704d0a75-3d4b-431d-9442-38c2462cc529",
   "metadata": {},
   "outputs": [
    {
     "name": "stdout",
     "output_type": "stream",
     "text": [
      "[10, 20, 30, 50]\n"
     ]
    }
   ],
   "source": [
    "t = (30, 10, 50, 20)\n",
    "sorted_t = sorted(t)\n",
    "print(sorted_t)  # Output: [10, 20, 30, 50]\n"
   ]
  },
  {
   "cell_type": "markdown",
   "id": "e318bdb8-42c0-45f2-ad2b-36baf84a7536",
   "metadata": {},
   "source": [
    "### Copying a Tuple"
   ]
  },
  {
   "cell_type": "code",
   "execution_count": 125,
   "id": "5640ad76-a63a-42c8-a007-e7ee0682ea7a",
   "metadata": {},
   "outputs": [
    {
     "name": "stdout",
     "output_type": "stream",
     "text": [
      "(1, 2, 3)\n"
     ]
    }
   ],
   "source": [
    "# Since tuples are immutable, direct assignment creates a reference, not a copy.\n",
    "# Use tuple slicing [:] to create a new copy.\n",
    "t1 = (1, 2, 3)\n",
    "t2 = t1[:]  # Creates a new copy\n",
    "print(t2)   # Output: (1, 2, 3)"
   ]
  },
  {
   "cell_type": "markdown",
   "id": "739208f5-8e97-4205-b662-7fd3060e897d",
   "metadata": {},
   "source": [
    "### Tuple as Dictionary Keys"
   ]
  },
  {
   "cell_type": "code",
   "execution_count": 128,
   "id": "10c2d798-3c44-4ff6-818b-16720691e0c8",
   "metadata": {},
   "outputs": [
    {
     "name": "stdout",
     "output_type": "stream",
     "text": [
      "Point A\n"
     ]
    }
   ],
   "source": [
    "dict_with_tuple_keys = { (1, 2): \"Point A\", (3, 4): \"Point B\" }\n",
    "print(dict_with_tuple_keys[(1, 2)])  # Output: \"Point A\"\n"
   ]
  },
  {
   "cell_type": "code",
   "execution_count": 130,
   "id": "23774c44-4ce4-472f-ae25-6b061bce629f",
   "metadata": {},
   "outputs": [
    {
     "name": "stdout",
     "output_type": "stream",
     "text": [
      "1 A\n",
      "2 B\n",
      "3 C\n"
     ]
    }
   ],
   "source": [
    "# Using Tuples in for Loop\n",
    "tuple_list = [(1, 'A'), (2, 'B'), (3, 'C')]\n",
    "for number, letter in tuple_list:\n",
    "    print(number, letter)\n"
   ]
  },
  {
   "cell_type": "code",
   "execution_count": null,
   "id": "c4930378-fc43-456a-8fd5-7fdd798e328f",
   "metadata": {},
   "outputs": [],
   "source": []
  }
 ],
 "metadata": {
  "kernelspec": {
   "display_name": "Python [conda env:base] *",
   "language": "python",
   "name": "conda-base-py"
  },
  "language_info": {
   "codemirror_mode": {
    "name": "ipython",
    "version": 3
   },
   "file_extension": ".py",
   "mimetype": "text/x-python",
   "name": "python",
   "nbconvert_exporter": "python",
   "pygments_lexer": "ipython3",
   "version": "3.12.7"
  }
 },
 "nbformat": 4,
 "nbformat_minor": 5
}
