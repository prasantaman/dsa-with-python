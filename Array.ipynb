{
 "cells": [
  {
   "cell_type": "markdown",
   "id": "a75e1e1b-69a5-4ec3-8900-f6dabe13a6b5",
   "metadata": {},
   "source": [
    "# Array"
   ]
  },
  {
   "cell_type": "markdown",
   "id": "85a68c86-1904-4a39-b9bd-83685dc05afd",
   "metadata": {},
   "source": [
    "## Array Creation "
   ]
  },
  {
   "cell_type": "code",
   "execution_count": 19,
   "id": "a118bb99-d0d5-4d15-a5b1-20821a192361",
   "metadata": {},
   "outputs": [
    {
     "name": "stdout",
     "output_type": "stream",
     "text": [
      "array('i', [1, 2, 4, 5, 6, 7, 10])\n",
      "<class 'array.array'>\n",
      "108\n"
     ]
    }
   ],
   "source": [
    "# using the array module \n",
    "import sys \n",
    "import array \n",
    "arr = array.array('i', [1,2,4,5,6,7,10])\n",
    "print(arr)\n",
    "print(type(arr))\n",
    "print(sys.getsizeof(arr))"
   ]
  },
  {
   "cell_type": "code",
   "execution_count": 26,
   "id": "8164be28-9b9a-43d0-98eb-a95475edafcc",
   "metadata": {},
   "outputs": [
    {
     "name": "stdout",
     "output_type": "stream",
     "text": [
      "[1, 2, 3, 4, 5, 10]\n",
      "<class 'list'>\n",
      "104\n"
     ]
    }
   ],
   "source": [
    "# Using a list \n",
    "arr = [1,2,3,4,5,10]\n",
    "print(arr)\n",
    "print(type(arr))\n",
    "print(sys.getsizeof(arr))\n"
   ]
  },
  {
   "cell_type": "code",
   "execution_count": 30,
   "id": "b933d95d-75b3-4aa6-8949-579db335b581",
   "metadata": {},
   "outputs": [
    {
     "name": "stdout",
     "output_type": "stream",
     "text": [
      "[12  3  4  5  6]\n",
      "<class 'numpy.ndarray'>\n",
      "132\n"
     ]
    }
   ],
   "source": [
    "# array using numpy \n",
    "import numpy as np \n",
    "arr = np.array([12,3,4,5,6])\n",
    "print(arr)\n",
    "print(type(arr))\n",
    "print(sys.getsizeof(arr))"
   ]
  },
  {
   "cell_type": "markdown",
   "id": "16d2c806-432a-48fe-88de-3ffdffeb20fc",
   "metadata": {},
   "source": [
    "## Slicing in 1D array"
   ]
  },
  {
   "cell_type": "code",
   "execution_count": 21,
   "id": "daccbfc9-4ff5-4e15-88da-86bd92dcad55",
   "metadata": {},
   "outputs": [
    {
     "name": "stdout",
     "output_type": "stream",
     "text": [
      "[40, 50]\n",
      "[60, 50, 40, 30, 20, 10]\n",
      "[10, 30, 50]\n",
      "[20, 40, 60]\n",
      "[40, 50, 60]\n",
      "[60, 40, 20]\n"
     ]
    }
   ],
   "source": [
    "# Slicing \n",
    "# in slicing indexing start from 0\n",
    "arr = [10, 20, 30, 40, 50, 60]\n",
    "\n",
    "print(arr[-3:-1]) # Output: [40, 50]\n",
    "print(arr[::-1])#array[start:stop:step] #Reverse an Array\n",
    "print(arr[::2])#Extract Even Index Elements\n",
    "print(arr[1::2])#Extract Odd Index Elements\n",
    "print(arr[-3:])# Extract last 3 elements \n",
    "print(arr[::-2])# Extract Alternate elements in reverse order "
   ]
  },
  {
   "cell_type": "markdown",
   "id": "c6169ae3-5c57-4571-958c-d1b75c4ed223",
   "metadata": {},
   "source": [
    "# Insertion in 1D array"
   ]
  },
  {
   "cell_type": "code",
   "execution_count": 13,
   "id": "faefa892-1fc4-4110-afdd-5433468ef045",
   "metadata": {},
   "outputs": [
    {
     "name": "stdout",
     "output_type": "stream",
     "text": [
      "[1, 2, 3, 10, 5]\n"
     ]
    }
   ],
   "source": [
    "#The existing elements are shifted to the right to make space for the new element.\n",
    "arr = [1, 2, 3, 5]\n",
    "arr.insert(3,10)  # Insert 4 at index 3\n",
    "print(arr)  # Output: [1, 2, 3, 4, 5]"
   ]
  },
  {
   "cell_type": "code",
   "execution_count": 19,
   "id": "8320ac3e-0df8-474b-aac3-3832d55174d5",
   "metadata": {},
   "outputs": [
    {
     "name": "stdout",
     "output_type": "stream",
     "text": [
      "[ 3  4  5  6 12  7  8]\n"
     ]
    }
   ],
   "source": [
    "# insertion using numpy \n",
    "#np.insert(array, index, values): Inserts values at the given index\n",
    "import numpy as np \n",
    "arr = np.array([3,4,5,6,7,8])\n",
    "arr = np.insert(arr,4,12)\n",
    "print(arr)"
   ]
  },
  {
   "cell_type": "markdown",
   "id": "257a821a-f31b-4aa2-ab42-be9b7b8a388f",
   "metadata": {},
   "source": [
    "## Append in 1D array "
   ]
  },
  {
   "cell_type": "code",
   "execution_count": 9,
   "id": "18940a28-3ab1-4fb8-8413-542c6ac5e02d",
   "metadata": {},
   "outputs": [
    {
     "name": "stdout",
     "output_type": "stream",
     "text": [
      "[1, 2, 3, 5, 10]\n"
     ]
    }
   ],
   "source": [
    "# append\n",
    "#Adds an element to the end of the list\n",
    "#\n",
    "arr = [1, 2, 3, 5]\n",
    "arr.append(10)# list.append() takes only one element \n",
    "print(arr)"
   ]
  },
  {
   "cell_type": "code",
   "execution_count": 21,
   "id": "4b81e28e-df66-4b31-bf61-dee82c5e72c5",
   "metadata": {},
   "outputs": [
    {
     "name": "stdout",
     "output_type": "stream",
     "text": [
      "[1 2 3 4 5 6]\n"
     ]
    }
   ],
   "source": [
    "#np.append(array, values): Appends values to the array\n",
    "arr = np.array([1, 2, 3])\n",
    "arr = np.append(arr,(4,5,6))\n",
    "print(arr)"
   ]
  },
  {
   "cell_type": "markdown",
   "id": "78a51ccf-17c2-4ead-9875-0960133d48e7",
   "metadata": {},
   "source": [
    "### Note "
   ]
  },
  {
   "cell_type": "code",
   "execution_count": 81,
   "id": "0528e242-cf09-4c2e-9b11-c11b032563bf",
   "metadata": {},
   "outputs": [],
   "source": [
    "# Python lists: append() and insert() modify the original list.\n",
    "# NumPy arrays: np.append() and np.insert() return a new array without modifying the original one."
   ]
  },
  {
   "cell_type": "markdown",
   "id": "bf8cda86-e9cb-4e44-b4dd-299927c1f32f",
   "metadata": {},
   "source": [
    "## Concatenate() in np.array"
   ]
  },
  {
   "cell_type": "code",
   "execution_count": 27,
   "id": "1cf3739d-1cdc-4c9a-b01a-77eab8cda380",
   "metadata": {},
   "outputs": [
    {
     "name": "stdout",
     "output_type": "stream",
     "text": [
      "[1 2 3 4 5]\n",
      "[4 5 1 2 3]\n"
     ]
    }
   ],
   "source": [
    "arr1 = np.array([1, 2, 3]) #  Used for merging multiple arrays\n",
    "arr2 = np.array([4, 5])\n",
    "new_arr = np.concatenate((arr1, arr2))\n",
    "new_arr2 = np.concatenate((arr2,arr1))\n",
    "print(new_arr)  # Output: [1 2 3 4 5]\n",
    "print(new_arr2)"
   ]
  },
  {
   "cell_type": "markdown",
   "id": "7bec1ec5-9970-479a-91e7-91936423e3d1",
   "metadata": {},
   "source": [
    "##  (Extend  & + operator) used in python list for merge two list \n",
    "## Concatinate not work with list "
   ]
  },
  {
   "cell_type": "code",
   "execution_count": 29,
   "id": "26d7ee72-4de6-48a6-bff9-51dc725fbd3c",
   "metadata": {},
   "outputs": [
    {
     "ename": "NameError",
     "evalue": "name 'concatenate' is not defined",
     "output_type": "error",
     "traceback": [
      "\u001b[1;31m---------------------------------------------------------------------------\u001b[0m",
      "\u001b[1;31mNameError\u001b[0m                                 Traceback (most recent call last)",
      "Cell \u001b[1;32mIn[29], line 3\u001b[0m\n\u001b[0;32m      1\u001b[0m arr1  \u001b[38;5;241m=\u001b[39m [\u001b[38;5;241m1\u001b[39m, \u001b[38;5;241m2\u001b[39m, \u001b[38;5;241m3\u001b[39m]\n\u001b[0;32m      2\u001b[0m arr2 \u001b[38;5;241m=\u001b[39m [\u001b[38;5;241m4\u001b[39m, \u001b[38;5;241m5\u001b[39m]\n\u001b[1;32m----> 3\u001b[0m arr3 \u001b[38;5;241m=\u001b[39m concatenate(arr1, arr2)\n",
      "\u001b[1;31mNameError\u001b[0m: name 'concatenate' is not defined"
     ]
    }
   ],
   "source": [
    "arr1  = [1, 2, 3]\n",
    "arr2 = [4, 5]\n",
    "arr3 = concatenate(arr1, arr2)"
   ]
  },
  {
   "cell_type": "code",
   "execution_count": 92,
   "id": "92ccc350-96f5-4580-ba94-8eb0c4d1c162",
   "metadata": {},
   "outputs": [
    {
     "name": "stdout",
     "output_type": "stream",
     "text": [
      "[1, 2, 3, 4, 5, 6]\n"
     ]
    }
   ],
   "source": [
    "list1 = [1, 2, 3]\n",
    "list2 = [4, 5, 6]\n",
    "result = list1 + list2\n",
    "print(result)  # Output: [1, 2, 3, 4, 5, 6]\n"
   ]
  },
  {
   "cell_type": "code",
   "execution_count": 94,
   "id": "474bfc65-d1ab-47ce-9a69-ca20398a2926",
   "metadata": {},
   "outputs": [
    {
     "name": "stdout",
     "output_type": "stream",
     "text": [
      "[1, 2, 3, 4, 5, 6]\n"
     ]
    }
   ],
   "source": [
    "list1 = [1, 2, 3]\n",
    "list2 = [4, 5, 6]\n",
    "list1.extend(list2)\n",
    "print(list1)  # Output: [1, 2, 3, 4, 5, 6]\n"
   ]
  },
  {
   "cell_type": "markdown",
   "id": "1137ab07-6d8a-470a-8ee4-4536353dbf6d",
   "metadata": {},
   "source": [
    "## Using np.hstack() (Horizontal Stack)"
   ]
  },
  {
   "cell_type": "code",
   "execution_count": 35,
   "id": "8e7190b4-f52b-4418-85ad-83f4e51a32b6",
   "metadata": {},
   "outputs": [
    {
     "name": "stdout",
     "output_type": "stream",
     "text": [
      "[1 2 3 4 5]\n"
     ]
    }
   ],
   "source": [
    "arr1 = np.array([1, 2, 3])\n",
    "arr2 = np.array([4, 5])\n",
    "new_arr = np.hstack((arr1, arr2))\n",
    "\n",
    "print(new_arr)  # Output: [1 2 3 4 5]\n"
   ]
  },
  {
   "cell_type": "markdown",
   "id": "8d1ce501-b7dd-4942-8d5e-79432fd0e726",
   "metadata": {},
   "source": [
    "## Using np.resize() (Resizing the array)"
   ]
  },
  {
   "cell_type": "code",
   "execution_count": 37,
   "id": "12246114-65a7-43bb-a10d-fa2076a959aa",
   "metadata": {},
   "outputs": [
    {
     "name": "stdout",
     "output_type": "stream",
     "text": [
      "[1 2 4 5 6 3]\n"
     ]
    }
   ],
   "source": [
    "arr = np.array([1, 2, 3])\n",
    "new_arr = np.resize(arr, (6,))\n",
    "new_arr[2:5] = [4, 5, 6]\n",
    "print(new_arr)  # Output: [1 2 3 4 5 6]\n"
   ]
  },
  {
   "cell_type": "code",
   "execution_count": 41,
   "id": "1bb8e887-1c55-481e-aee5-a32b876fa300",
   "metadata": {},
   "outputs": [
    {
     "name": "stdout",
     "output_type": "stream",
     "text": [
      "[1 2 3 1 2 3]\n",
      "[1 2 3]\n",
      "[1 2 3 0 0 0]\n"
     ]
    }
   ],
   "source": [
    "arr = np.array([1, 2, 3])\n",
    "new_arr = np.resize(arr, (6,))\n",
    "print(new_arr)\n",
    "print(arr)\n",
    "arr.resize((6,))\n",
    "print(arr)\n"
   ]
  },
  {
   "cell_type": "code",
   "execution_count": 102,
   "id": "4b85d7d3-6e45-410f-9741-207a1fc241aa",
   "metadata": {},
   "outputs": [
    {
     "name": "stdout",
     "output_type": "stream",
     "text": [
      "[[1 2]\n",
      " [3 4]\n",
      " [5 6]]\n"
     ]
    }
   ],
   "source": [
    "arr = np.array([1, 2, 3, 4, 5, 6])\n",
    "resized_arr = np.resize(arr, (3, 2))  # (rows, columns)\n",
    "print(resized_arr)"
   ]
  },
  {
   "cell_type": "markdown",
   "id": "c7eac176-67fc-4b4f-8c41-f8ff6f01e396",
   "metadata": {},
   "source": [
    "# Deleteion of elements in an 1D array "
   ]
  },
  {
   "cell_type": "markdown",
   "id": "102e7a5c-d0d1-49d5-a642-fff92726b110",
   "metadata": {},
   "source": [
    "## del in python list \n"
   ]
  },
  {
   "cell_type": "code",
   "execution_count": 125,
   "id": "912eabe4-21e1-4b5a-b96f-216cf5ee5b61",
   "metadata": {},
   "outputs": [
    {
     "name": "stdout",
     "output_type": "stream",
     "text": [
      "[1, 3, 4]\n",
      "<class 'list'>\n"
     ]
    }
   ],
   "source": [
    "# Deletes an element at a specific index or deletes the entire list\n",
    "list = [1, 2, 3, 4]\n",
    "del list[1]  # Deletes element at index 1\n",
    "print(list)  # Output: [1, 3, 4]\n",
    "\n",
    "del list  # Deletes the entire list\n",
    "print(list)"
   ]
  },
  {
   "cell_type": "markdown",
   "id": "09e9a336-9027-4652-831e-4cdaa76830f6",
   "metadata": {},
   "source": [
    "## Remove in python list "
   ]
  },
  {
   "cell_type": "code",
   "execution_count": 132,
   "id": "5fc332d2-9587-4303-8362-db71067dbcdf",
   "metadata": {},
   "outputs": [
    {
     "name": "stdout",
     "output_type": "stream",
     "text": [
      "[1, 2, 4, 3, 3]\n"
     ]
    }
   ],
   "source": [
    "#Removes the first occurrence of a specific element.\n",
    "lst = [1, 2, 3, 4,3,3]\n",
    "lst.remove(3)  # Removes the first occurrence of 3\n",
    "print(lst)  # Output: [1, 2, 4]"
   ]
  },
  {
   "cell_type": "markdown",
   "id": "8d3b5a4b-ce3b-4c36-8980-120ed0a84238",
   "metadata": {},
   "source": [
    "## pop in python list "
   ]
  },
  {
   "cell_type": "code",
   "execution_count": 136,
   "id": "a01b051a-a4f7-4aaf-af3a-143146bdbfc9",
   "metadata": {},
   "outputs": [
    {
     "name": "stdout",
     "output_type": "stream",
     "text": [
      "[1, 2, 4]\n",
      "[1, 2]\n"
     ]
    }
   ],
   "source": [
    "lst = [1, 2, 3, 4]\n",
    "lst.pop(2)  # Removes and returns element at index 2\n",
    "print(lst)  # Output: [1, 2, 4]\n",
    "\n",
    "lst.pop()  # Removes the last element\n",
    "print(lst)  # Output: [1, 2]\n"
   ]
  },
  {
   "cell_type": "markdown",
   "id": "a87fc6c1-315b-46a2-a28f-6e64251483df",
   "metadata": {},
   "source": [
    "## clear() method in python list "
   ]
  },
  {
   "cell_type": "code",
   "execution_count": 139,
   "id": "d92485bf-c16b-4765-8a2b-951cc48458ef",
   "metadata": {},
   "outputs": [
    {
     "name": "stdout",
     "output_type": "stream",
     "text": [
      "[]\n"
     ]
    }
   ],
   "source": [
    "#Removes all elements from the list, making it empty.\n",
    "lst = [1, 2, 3, 4]\n",
    "lst.clear()\n",
    "print(lst)  # Output: []"
   ]
  },
  {
   "cell_type": "markdown",
   "id": "69accfac-c3cd-4676-b69b-85f05cd86f9e",
   "metadata": {},
   "source": [
    "## np.delete() in NumPy arrays "
   ]
  },
  {
   "cell_type": "code",
   "execution_count": 142,
   "id": "cf8ce910-c0ea-4b4f-b668-33e6935ce81c",
   "metadata": {},
   "outputs": [
    {
     "name": "stdout",
     "output_type": "stream",
     "text": [
      "[1 3 4]\n"
     ]
    }
   ],
   "source": [
    "#Deletes elements from an array at a specific index or condition.\n",
    "arr = np.array([1,2,3,4])\n",
    "new_arr = np.delete(arr,1) # delete element at index 1 \n",
    "print(new_arr)\n"
   ]
  },
  {
   "cell_type": "code",
   "execution_count": 152,
   "id": "f51f6dfe-6a6c-4a9f-99b3-616ca5a15b2d",
   "metadata": {},
   "outputs": [
    {
     "name": "stdout",
     "output_type": "stream",
     "text": [
      "[[1]\n",
      " [3]\n",
      " [5]]\n"
     ]
    }
   ],
   "source": [
    "#np.delete() with Axis\n",
    "arr = np.array([[1, 2], [3, 4], [5, 6]])\n",
    "new_arr = np.delete(arr,1,axis=1)\n",
    "print(new_arr)"
   ]
  },
  {
   "cell_type": "code",
   "execution_count": 43,
   "id": "5274fda9-fe39-47ab-b83c-7e6a480dbbe2",
   "metadata": {},
   "outputs": [
    {
     "name": "stdout",
     "output_type": "stream",
     "text": [
      "[[1 2]\n",
      " [5 6]]\n"
     ]
    }
   ],
   "source": [
    "arr = np.array([[1, 2], [3, 4], [5, 6]])\n",
    "new_arr = np.delete(arr,1,axis=0)\n",
    "print(new_arr)"
   ]
  },
  {
   "cell_type": "markdown",
   "id": "d6448b09-37c4-4aae-8d2b-78d3dc6b5ee4",
   "metadata": {},
   "source": [
    "## Using Boolean Masking "
   ]
  },
  {
   "cell_type": "code",
   "execution_count": 59,
   "id": "47b11601-ec7f-40de-85e2-1954d7958f3f",
   "metadata": {},
   "outputs": [
    {
     "name": "stdout",
     "output_type": "stream",
     "text": [
      "[1 5 6 6]\n",
      "[6 6]\n"
     ]
    }
   ],
   "source": [
    "#Use a boolean condition to remove elements that satisfy a certain condition\n",
    "arr = np.array([1,3,5,6,3,6])\n",
    "new_arr = arr[arr!= 3]\n",
    "new_arr2 = arr[arr==6]\n",
    "print(new_arr)\n",
    "print(new_arr2)"
   ]
  },
  {
   "cell_type": "markdown",
   "id": "d8c62d97-1e31-4d1c-acdc-b2b20025ed45",
   "metadata": {},
   "source": [
    "## np.resize() "
   ]
  },
  {
   "cell_type": "code",
   "execution_count": 148,
   "id": "2b836509-e70e-4263-aa35-50f392c6ac9d",
   "metadata": {},
   "outputs": [
    {
     "name": "stdout",
     "output_type": "stream",
     "text": [
      "[2 3 5]\n"
     ]
    }
   ],
   "source": [
    "# Resizes the array and removes extra elements if the new size is smaller\n",
    "arr = np.array([2,3,5,6,4,8,10])\n",
    "new_arr = np.resize(arr,(3,))\n",
    "print(new_arr)"
   ]
  },
  {
   "cell_type": "markdown",
   "id": "7626252d-569d-4bec-bfbc-6d85eeb7368b",
   "metadata": {},
   "source": [
    "# loop through an array"
   ]
  },
  {
   "cell_type": "code",
   "execution_count": 159,
   "id": "47021b25-4ec8-40be-a986-087e9a6328ee",
   "metadata": {},
   "outputs": [
    {
     "name": "stdout",
     "output_type": "stream",
     "text": [
      "10\n",
      "20\n",
      "30\n",
      "40\n"
     ]
    }
   ],
   "source": [
    "arr = [10, 20, 30, 40]\n",
    "for num in arr:\n",
    "    print(num)\n"
   ]
  },
  {
   "cell_type": "code",
   "execution_count": 167,
   "id": "380ea731-de63-405d-b587-ab568f59cf7f",
   "metadata": {},
   "outputs": [
    {
     "name": "stdout",
     "output_type": "stream",
     "text": [
      "10\n",
      "20\n",
      "30\n",
      "40\n"
     ]
    }
   ],
   "source": [
    "arr = [10, 20, 30, 40]\n",
    "i = 0 \n",
    "while i<len(arr): \n",
    "    print(arr[i])\n",
    "    i+=1"
   ]
  },
  {
   "cell_type": "markdown",
   "id": "b0b632b5-d8f3-49cf-82b7-b2c61ac09aae",
   "metadata": {},
   "source": [
    "# reverse an array "
   ]
  },
  {
   "cell_type": "markdown",
   "id": "851e8cba-a5cd-4370-a87b-94e8f6afb709",
   "metadata": {},
   "source": [
    "## Using reverse() in python list "
   ]
  },
  {
   "cell_type": "code",
   "execution_count": 172,
   "id": "5f01a850-f930-495a-8a09-250fbb320f53",
   "metadata": {},
   "outputs": [
    {
     "name": "stdout",
     "output_type": "stream",
     "text": [
      "[5, 4, 3, 2, 1]\n"
     ]
    }
   ],
   "source": [
    "arr = [1, 2, 3, 4, 5]\n",
    "arr.reverse()\n",
    "print(arr)"
   ]
  },
  {
   "cell_type": "markdown",
   "id": "a0e5f8f0-95e2-46b5-bff8-6c83caa897f9",
   "metadata": {},
   "source": [
    "## Using Slicing in python list "
   ]
  },
  {
   "cell_type": "code",
   "execution_count": 176,
   "id": "06843f65-27e3-46c0-bfeb-697548195831",
   "metadata": {},
   "outputs": [
    {
     "name": "stdout",
     "output_type": "stream",
     "text": [
      "[5, 4, 3, 2, 1]\n"
     ]
    }
   ],
   "source": [
    "arr = arr[::-1]\n",
    "print(arr)"
   ]
  },
  {
   "cell_type": "markdown",
   "id": "61abfd32-9245-4eb5-8f3a-53b65e3cef4c",
   "metadata": {},
   "source": [
    "## np.flip method in NumPy"
   ]
  },
  {
   "cell_type": "code",
   "execution_count": 185,
   "id": "9cc2780f-965a-43e9-897f-ffe4a3936299",
   "metadata": {},
   "outputs": [
    {
     "name": "stdout",
     "output_type": "stream",
     "text": [
      "[5 4 3 2 1]\n",
      "[1 2 3 4 5]\n"
     ]
    }
   ],
   "source": [
    "arr = np.array([1, 2, 3, 4, 5])\n",
    "new_arr = np.flip(arr)\n",
    "print(new_arr)\n",
    "print(arr)"
   ]
  },
  {
   "cell_type": "markdown",
   "id": "0b331b5e-dfe1-490e-9efc-4bc4bfe604d9",
   "metadata": {},
   "source": [
    "# Sort Array "
   ]
  },
  {
   "cell_type": "markdown",
   "id": "0a864ef7-49b2-4e44-9051-5dc01227f4c5",
   "metadata": {},
   "source": [
    "## sort in list "
   ]
  },
  {
   "cell_type": "code",
   "execution_count": 189,
   "id": "b1049f86-102c-4678-9400-1dfe7e6296fc",
   "metadata": {},
   "outputs": [
    {
     "name": "stdout",
     "output_type": "stream",
     "text": [
      "[1, 1, 2, 3, 4, 5, 6, 9]\n"
     ]
    }
   ],
   "source": [
    "arr = [3, 1, 4, 1, 5, 9, 2, 6]\n",
    "arr.sort()\n",
    "print(arr)  # Output: [1, 1, 2, 3, 4, 5, 6, 9]\n"
   ]
  },
  {
   "cell_type": "markdown",
   "id": "05e8ba2d-259e-407b-9f9f-5588f91f71b0",
   "metadata": {},
   "source": [
    "## sort in NumPy array"
   ]
  },
  {
   "cell_type": "code",
   "execution_count": 192,
   "id": "dfdcc938-27c9-4798-b355-062ecb58deb9",
   "metadata": {},
   "outputs": [
    {
     "name": "stdout",
     "output_type": "stream",
     "text": [
      "[1 1 2 3 4 5 6 9]\n"
     ]
    }
   ],
   "source": [
    "import numpy as np\n",
    "arr = np.array([3, 1, 4, 1, 5, 9, 2, 6])\n",
    "arr = np.sort(arr)\n",
    "print(arr)  # Output: [1 1 2 3 4 5 6 9]\n"
   ]
  },
  {
   "cell_type": "markdown",
   "id": "7207e201-5a66-45f3-8dd3-cd0fa5e7b365",
   "metadata": {},
   "source": [
    "# How to find the maximum and minimum element in an array"
   ]
  },
  {
   "cell_type": "markdown",
   "id": "17b67395-51b1-4e25-b97c-99747b34878c",
   "metadata": {},
   "source": [
    "## in list "
   ]
  },
  {
   "cell_type": "code",
   "execution_count": 196,
   "id": "4598dccf-bfb1-457c-896f-e0744f1335b6",
   "metadata": {},
   "outputs": [
    {
     "name": "stdout",
     "output_type": "stream",
     "text": [
      "50\n",
      "10\n"
     ]
    }
   ],
   "source": [
    "arr = [10, 20, 30, 40, 50]\n",
    "print(max(arr))  # Output: 50\n",
    "print(min(arr))  # Output: 10\n"
   ]
  },
  {
   "cell_type": "markdown",
   "id": "188c9096-40a3-49c3-8eca-af500c6128c2",
   "metadata": {},
   "source": [
    "## in Numpy "
   ]
  },
  {
   "cell_type": "code",
   "execution_count": 199,
   "id": "ed08c3e8-5738-413c-a286-15d92872de7e",
   "metadata": {},
   "outputs": [
    {
     "name": "stdout",
     "output_type": "stream",
     "text": [
      "50\n",
      "10\n"
     ]
    }
   ],
   "source": [
    "import numpy as np\n",
    "arr = np.array([10, 20, 30, 40, 50])\n",
    "print(np.max(arr))  # Output: 50\n",
    "print(np.min(arr))  # Output: 10\n"
   ]
  },
  {
   "cell_type": "markdown",
   "id": "dab1c762-ac67-403a-9ca0-85c0e2de61f9",
   "metadata": {},
   "source": [
    "# sum( list and Numpy)"
   ]
  },
  {
   "cell_type": "code",
   "execution_count": 203,
   "id": "bf173b3a-3b2d-4fd4-b8fd-38d43c3b5db0",
   "metadata": {},
   "outputs": [
    {
     "name": "stdout",
     "output_type": "stream",
     "text": [
      "15\n"
     ]
    }
   ],
   "source": [
    "arr = [1, 2, 3, 4, 5]\n",
    "print(sum(arr))  # Output: 15\n"
   ]
  },
  {
   "cell_type": "markdown",
   "id": "d23cc129-1339-444a-9b75-8b64dbb0ad75",
   "metadata": {},
   "source": [
    "# How to find the index of an element?"
   ]
  },
  {
   "cell_type": "code",
   "execution_count": 206,
   "id": "e4917588-650f-4727-9577-c9d00141ace4",
   "metadata": {},
   "outputs": [
    {
     "name": "stdout",
     "output_type": "stream",
     "text": [
      "2\n"
     ]
    }
   ],
   "source": [
    "arr = [10, 20, 30, 40]\n",
    "print(arr.index(30)) "
   ]
  },
  {
   "cell_type": "code",
   "execution_count": 208,
   "id": "93087d7a-0e8e-4a8d-940f-505189b1b0bd",
   "metadata": {},
   "outputs": [
    {
     "name": "stdout",
     "output_type": "stream",
     "text": [
      "(array([2], dtype=int64),)\n"
     ]
    }
   ],
   "source": [
    "import numpy as np\n",
    "arr = np.array([10, 20, 30, 40])\n",
    "print(np.where(arr == 30))  # Output: (array([2]),)\n"
   ]
  },
  {
   "cell_type": "markdown",
   "id": "7d117f7f-787a-4eaa-ba14-46efa6d98223",
   "metadata": {},
   "source": [
    "# How to input array "
   ]
  },
  {
   "cell_type": "code",
   "execution_count": 4,
   "id": "d7026bf3-492c-4b97-acf5-151edeacf2ab",
   "metadata": {},
   "outputs": [
    {
     "name": "stdin",
     "output_type": "stream",
     "text": [
      "Enter numbers:  2 3 4 6 7 7 8  3 4 5 \n"
     ]
    },
    {
     "name": "stdout",
     "output_type": "stream",
     "text": [
      "NumPy Array: [2 3 4 6 7 7 8 3 4 5]\n"
     ]
    }
   ],
   "source": [
    "import numpy as np\n",
    "\n",
    "# Taking space-separated input from the user\n",
    "arr = np.array(list(map(int, input(\"Enter numbers: \").split())))\n",
    "\n",
    "print(\"NumPy Array:\", arr)\n"
   ]
  },
  {
   "cell_type": "code",
   "execution_count": 38,
   "id": "0f55a909-3db9-45a7-a9c7-d42d3a9329a4",
   "metadata": {},
   "outputs": [
    {
     "name": "stdin",
     "output_type": "stream",
     "text": [
      "Enter number of rows:  2\n",
      "Enter number of columns:  1\n",
      " 5\n",
      " 6\n"
     ]
    },
    {
     "name": "stdout",
     "output_type": "stream",
     "text": [
      "NumPy Matrix:\n",
      " [[5]\n",
      " [6]]\n"
     ]
    }
   ],
   "source": [
    "import numpy as np\n",
    "\n",
    "rows = int(input(\"Enter number of rows: \"))\n",
    "cols = int(input(\"Enter number of columns: \"))\n",
    "\n",
    "matrix = []\n",
    "for _ in range(rows):\n",
    "    row = list(map(int, input().split()))  # Input row elements\n",
    "    matrix.append(row)\n",
    "\n",
    "arr = np.array(matrix)\n",
    "print(\"NumPy Matrix:\\n\", arr)\n"
   ]
  },
  {
   "cell_type": "code",
   "execution_count": 61,
   "id": "fcd5ce08-8f58-4791-83c8-5005591de5db",
   "metadata": {},
   "outputs": [
    {
     "name": "stdin",
     "output_type": "stream",
     "text": [
      "enter numbers:  3,4,5,6,7,8,10,11\n"
     ]
    },
    {
     "name": "stdout",
     "output_type": "stream",
     "text": [
      "[ 3  4  5  6  7  8 10 11]\n"
     ]
    }
   ],
   "source": [
    "# using numpy.fromstring()\n",
    "import numpy as np\n",
    "arr = np.fromstring(input(\"enter numbers: \"), dtype=int, sep = ', ')\n",
    "print(arr)"
   ]
  },
  {
   "cell_type": "code",
   "execution_count": 44,
   "id": "348e0c74-717e-4b6f-8700-c977ac1d6a35",
   "metadata": {},
   "outputs": [
    {
     "name": "stdin",
     "output_type": "stream",
     "text": [
      "enter an list:  2 3 4 5 6 7\n"
     ]
    },
    {
     "name": "stdout",
     "output_type": "stream",
     "text": [
      "[[2 3 4]\n",
      " [5 6 7]]\n"
     ]
    }
   ],
   "source": [
    "#using numpy.reshape()\n",
    "rows, cols = 2,3\n",
    "arr = np.array(list(map(int, input(\"enter an list: \").split()))).reshape(rows, cols)\n",
    "print(arr)\n",
    "\n",
    "# Basic Input (split())\t1D array (single row)\n",
    "# Loop for Matrix Input\t2D array (row by row input)\n",
    "# numpy.fromstring()\tFast 1D array input\n",
    "# reshape()\tConvert flat input into multi-dimensional array\n",
    "# Loop + reshape()\tFor 3D or complex arrays"
   ]
  },
  {
   "cell_type": "markdown",
   "id": "614a51b2-b765-4216-bd24-5d72d48ab081",
   "metadata": {},
   "source": [
    "# map, reduce, filter "
   ]
  },
  {
   "cell_type": "markdown",
   "id": "f62c619b-109c-4db9-9891-78ceacaa44da",
   "metadata": {},
   "source": [
    "## map "
   ]
  },
  {
   "cell_type": "code",
   "execution_count": 13,
   "id": "037cd36b-331c-42f5-824d-3fd831974af1",
   "metadata": {},
   "outputs": [
    {
     "name": "stdout",
     "output_type": "stream",
     "text": [
      "[4, 16, 25, 1, 9, 25]\n"
     ]
    }
   ],
   "source": [
    "#The map() function applies a given function to all items in an iterable (e.g., list, tuple) and returns a map object\n",
    "#(an iterator).\n",
    "#map(function, iterable)\n",
    "def squares(n): \n",
    "    return n*n \n",
    "numbers = [2,4,5,1,3,5]\n",
    "squared_numbers = map(squares, numbers)\n",
    "print(list(squared_numbers))\n"
   ]
  },
  {
   "cell_type": "markdown",
   "id": "29e60d60-1899-4011-a5d6-e7b6f0190ff2",
   "metadata": {},
   "source": [
    "### Using Lambda Function "
   ]
  },
  {
   "cell_type": "code",
   "execution_count": 20,
   "id": "9d097ced-4d21-4a92-b7ac-1fde3cc2b3f0",
   "metadata": {},
   "outputs": [
    {
     "name": "stdout",
     "output_type": "stream",
     "text": [
      "[4, 16, 25, 1, 9, 25]\n"
     ]
    }
   ],
   "source": [
    "numbers = [2,4,5,1,3,5]\n",
    "squared = map(lambda x: x*x , numbers)\n",
    "print(list(squared))"
   ]
  },
  {
   "cell_type": "markdown",
   "id": "b65de123-d3d9-4a49-b496-3b5f1f6e1604",
   "metadata": {},
   "source": [
    "## filter"
   ]
  },
  {
   "cell_type": "code",
   "execution_count": 25,
   "id": "f9ae44ec-9cb4-4817-bf4b-fef07e8ee390",
   "metadata": {},
   "outputs": [
    {
     "name": "stdout",
     "output_type": "stream",
     "text": [
      "[2, 4]\n"
     ]
    }
   ],
   "source": [
    "# The filter() function filters elements from an iterable based on a condition\n",
    "#filter(function, iterable)\n",
    "def even_num(n): \n",
    "    return n%2==0\n",
    "numbers =  [2,4,5,1,3,5]\n",
    "even = filter(even_num, numbers)\n",
    "print(list(even))"
   ]
  },
  {
   "cell_type": "markdown",
   "id": "9b662ae5-87ca-4039-853b-aa4b28e67623",
   "metadata": {},
   "source": [
    "## Reduce "
   ]
  },
  {
   "cell_type": "code",
   "execution_count": 30,
   "id": "333dfae5-05b5-44ed-b60f-01437bad3301",
   "metadata": {},
   "outputs": [
    {
     "name": "stdout",
     "output_type": "stream",
     "text": [
      "18\n"
     ]
    }
   ],
   "source": [
    "#The reduce() function applies a function cumulatively to the items of an iterable.\n",
    "#It is part of the functools module.\n",
    "#from functools import reduce\n",
    "#reduce(function, iterable)\n",
    "from functools import reduce \n",
    "def add(x,y):\n",
    "    return x+y\n",
    "numbers = [2,4,5,6,1]    \n",
    "sum = reduce(add, numbers)\n",
    "print(sum)"
   ]
  },
  {
   "cell_type": "markdown",
   "id": "575c3fcb-7bf1-4883-a4a2-56315393fa17",
   "metadata": {},
   "source": [
    "# Find the Second Largest Element in an Array"
   ]
  },
  {
   "cell_type": "code",
   "execution_count": 5,
   "id": "df02f55c-c825-4e05-8bc5-76002ea884d2",
   "metadata": {},
   "outputs": [
    {
     "name": "stdout",
     "output_type": "stream",
     "text": [
      "6\n"
     ]
    }
   ],
   "source": [
    "def second_largest(arr): # time complexity : O(N)\n",
    "    first = second = float('-inf')\n",
    "    for num in arr: \n",
    "        if num >first: \n",
    "            second = first\n",
    "            first = num \n",
    "        elif num>second: \n",
    "            second = num \n",
    "    return second if second != float('-inf') else None \n",
    "arr = [10,2,4,5,6]    \n",
    "print(second_largest(arr))"
   ]
  },
  {
   "cell_type": "markdown",
   "id": "ef92e8fa-d187-4bf6-8f3f-9d2a150b2e64",
   "metadata": {},
   "source": [
    "# Reverse an Array Without Extra Space"
   ]
  },
  {
   "cell_type": "code",
   "execution_count": 60,
   "id": "695387c9-97ee-4bc0-990a-459bf9cfa938",
   "metadata": {},
   "outputs": [
    {
     "name": "stdout",
     "output_type": "stream",
     "text": [
      "[7, 3, 5, 4, 3, 1]\n"
     ]
    }
   ],
   "source": [
    "def reverse_array(arr): \n",
    "    left, right = 0, len(arr)-1 \n",
    "    while left<right: \n",
    "        arr[left], arr[right]= arr[right], arr[left]\n",
    "        left+=1\n",
    "        right-=1\n",
    "    return arr\n",
    "arr = [1,3,4,5,3,7]\n",
    "print(reverse_array(arr))"
   ]
  },
  {
   "cell_type": "markdown",
   "id": "b867a2bb-3214-4c5e-a1f9-051f429f2dee",
   "metadata": {},
   "source": [
    "# Check If an Array Is Sorted"
   ]
  },
  {
   "cell_type": "code",
   "execution_count": 69,
   "id": "ca65cfc0-a196-4084-993e-a1deed0d1795",
   "metadata": {},
   "outputs": [
    {
     "name": "stdin",
     "output_type": "stream",
     "text": [
      "enter an list:  3 4 5 3\n"
     ]
    },
    {
     "data": {
      "text/plain": [
       "False"
      ]
     },
     "execution_count": 69,
     "metadata": {},
     "output_type": "execute_result"
    }
   ],
   "source": [
    "def is_sorted(arr): \n",
    "    for i in range(len(arr)-1): \n",
    "        if arr[i]> arr[i+1]: \n",
    "            return False\n",
    "    return True    \n",
    "arr = list(map(int, input(\"enter an list: \").split()))\n",
    "is_sorted(arr)"
   ]
  },
  {
   "cell_type": "markdown",
   "id": "cebf2d49-6bfc-4a4a-b58f-0c43018435d4",
   "metadata": {},
   "source": [
    "#  Move Zeros to End (Without Changing Order)"
   ]
  },
  {
   "cell_type": "code",
   "execution_count": 1,
   "id": "75bfcea1-e081-4cd6-a2b6-8913ea5c5941",
   "metadata": {},
   "outputs": [
    {
     "name": "stdout",
     "output_type": "stream",
     "text": [
      "[1, 3, 12, 0, 0]\n"
     ]
    }
   ],
   "source": [
    "def move_zeros(arr):\n",
    "    non_zero_index = 0\n",
    "    for i in range(len(arr)):\n",
    "        if arr[i] != 0:\n",
    "            arr[non_zero_index], arr[i] = arr[i], arr[non_zero_index]\n",
    "            non_zero_index += 1\n",
    "    return arr\n",
    "\n",
    "# Example\n",
    "arr = [0, 1, 0, 3, 12]\n",
    "print(move_zeros(arr))  # Output: [1, 3, 12, 0, 0]\n"
   ]
  },
  {
   "cell_type": "markdown",
   "id": "6078a9fa-a5d9-4e58-8462-ebd063366364",
   "metadata": {},
   "source": [
    "# wap to input positive integer & convert it into binary using arrays"
   ]
  },
  {
   "cell_type": "code",
   "execution_count": 13,
   "id": "959e8c4a-9f8a-4c73-bdba-018d963462ab",
   "metadata": {},
   "outputs": [
    {
     "name": "stdout",
     "output_type": "stream",
     "text": [
      "[1, 1, 0, 0, 1]\n"
     ]
    }
   ],
   "source": [
    "n = 25\n",
    "i = 0 \n",
    "x = [0]* 20 \n",
    "while n > 0: \n",
    "    x[i] = n%2\n",
    "    n = n//2 #floor division\" operator.\n",
    "    i+=1\n",
    "x = x[:i]  \n",
    "x = x[::-1]\n",
    "print(x)   "
   ]
  },
  {
   "cell_type": "code",
   "execution_count": 7,
   "id": "395a555a-a739-47ce-ac01-1188403e8766",
   "metadata": {},
   "outputs": [
    {
     "name": "stdout",
     "output_type": "stream",
     "text": [
      "11001\n"
     ]
    }
   ],
   "source": [
    "# without array \n",
    "n = 25 \n",
    "i = 0 \n",
    "s = 0 \n",
    "\n",
    "while n>0:\n",
    "    x = n%2\n",
    "    n = n//2\n",
    "    s = s+ x*(10**i)\n",
    "    i+=1\n",
    "print(s)    \n",
    "    "
   ]
  },
  {
   "cell_type": "code",
   "execution_count": 17,
   "id": "1512f4c8-e664-4036-9633-c17006d2ed7f",
   "metadata": {},
   "outputs": [
    {
     "name": "stdout",
     "output_type": "stream",
     "text": [
      "[1, 0, 0, 1, 1]\n",
      "Binary representation: [1, 1, 0, 0, 1]\n"
     ]
    }
   ],
   "source": [
    "n = 25\n",
    "binary_digits = []\n",
    "\n",
    "while n > 0:\n",
    "    remainder = n % 2\n",
    "    binary_digits.append(remainder)\n",
    "    n = n // 2\n",
    "print(binary_digits)\n",
    "binary_digits.reverse()\n",
    "print(\"Binary representation:\", binary_digits)"
   ]
  },
  {
   "cell_type": "markdown",
   "id": "072abf80-bd4a-45ae-95a9-85a53690ba2d",
   "metadata": {},
   "source": [
    "# Largest and Smallest Element"
   ]
  },
  {
   "cell_type": "code",
   "execution_count": 2,
   "id": "c0499545-535d-4d63-b677-750c7c5ed741",
   "metadata": {},
   "outputs": [
    {
     "name": "stdout",
     "output_type": "stream",
     "text": [
      "(3, 10)\n"
     ]
    }
   ],
   "source": [
    "def get_max_min(arr): \n",
    "    return min(arr), max(arr)\n",
    "arr = [3,4,5,6,7,8,10] \n",
    "print(get_max_min(arr))"
   ]
  },
  {
   "cell_type": "code",
   "execution_count": 6,
   "id": "421501be-472d-4872-94b3-a96254cef2d8",
   "metadata": {},
   "outputs": [
    {
     "name": "stdout",
     "output_type": "stream",
     "text": [
      "(3, 10)\n"
     ]
    }
   ],
   "source": [
    "# iterable method (linear Search)\n",
    "def get_max_min(arr): \n",
    "    if not arr: \n",
    "        return None, None\n",
    "    max = arr[0] \n",
    "    min = arr[0]\n",
    "    for num in arr: \n",
    "        if num > max: \n",
    "            max = num\n",
    "        if num < min : \n",
    "            min = num \n",
    "    return min, max \n",
    "    \n",
    "arr =   [3,4,5,6,7,8,10]  \n",
    "print(get_max_min(arr))"
   ]
  },
  {
   "cell_type": "code",
   "execution_count": 12,
   "id": "c9ad77dc-a45a-4646-92fc-efaf053ad077",
   "metadata": {},
   "outputs": [
    {
     "name": "stdout",
     "output_type": "stream",
     "text": [
      "3 10\n"
     ]
    }
   ],
   "source": [
    "# Sorting Method\n",
    "arr =   [3,4,5,6,7,8,10]  \n",
    "arr.sort()\n",
    "min = arr[0]\n",
    "max = arr[-1]\n",
    "print(min, max)"
   ]
  },
  {
   "cell_type": "code",
   "execution_count": 1,
   "id": "c2e032e8-957e-4fcd-8e87-0f3378f92a55",
   "metadata": {},
   "outputs": [
    {
     "name": "stdout",
     "output_type": "stream",
     "text": [
      "Maximum: 8 Minimum: -2\n"
     ]
    }
   ],
   "source": [
    "def find_max_min(arr, low, high):\n",
    "    if low == high:\n",
    "        # If there's only one element, it is both max and min\n",
    "        return arr[low], arr[low]\n",
    "    elif high == low + 1:\n",
    "        # If there are two elements, compare them directly\n",
    "        return (max(arr[low], arr[high]), min(arr[low], arr[high]))\n",
    "    else:\n",
    "        # Divide the array into two halves and recursively find max and min\n",
    "        mid = (low + high) // 2\n",
    "        max1, min1 = find_max_min(arr, low, mid)       # First half\n",
    "        max2, min2 = find_max_min(arr, mid + 1, high)  # Second half\n",
    "        return max(max1, max2), min(min1, min2)        # Combine results\n",
    "\n",
    "# Example usage\n",
    "arr = [3, 5, 1, 8, -2, 7]\n",
    "max_val, min_val = find_max_min(arr, 0, len(arr) - 1)\n",
    "print(\"Maximum:\", max_val, \"Minimum:\", min_val)"
   ]
  },
  {
   "cell_type": "code",
   "execution_count": null,
   "id": "8788e8bc-4deb-48ce-b8e0-5f4de7e0e094",
   "metadata": {},
   "outputs": [],
   "source": []
  }
 ],
 "metadata": {
  "kernelspec": {
   "display_name": "Python [conda env:base] *",
   "language": "python",
   "name": "conda-base-py"
  },
  "language_info": {
   "codemirror_mode": {
    "name": "ipython",
    "version": 3
   },
   "file_extension": ".py",
   "mimetype": "text/x-python",
   "name": "python",
   "nbconvert_exporter": "python",
   "pygments_lexer": "ipython3",
   "version": "3.12.7"
  }
 },
 "nbformat": 4,
 "nbformat_minor": 5
}
