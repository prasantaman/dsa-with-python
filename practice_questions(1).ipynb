{
 "cells": [
  {
   "cell_type": "code",
   "execution_count": 1,
   "id": "af3e4b3f-53d8-45da-8edd-ab32998443e3",
   "metadata": {},
   "outputs": [
    {
     "name": "stdout",
     "output_type": "stream",
     "text": [
      "True\n",
      "False\n"
     ]
    }
   ],
   "source": [
    "a = [1, 2, 3]\n",
    "b = [1, 2, 3]\n",
    "print(a == b)  # True (same value)\n",
    "print(a is b)  # False (different objects in memory)"
   ]
  },
  {
   "cell_type": "markdown",
   "id": "6e03ad93-48d2-44af-87ab-a8fc2b8d0dda",
   "metadata": {},
   "source": [
    "## Arguments"
   ]
  },
  {
   "cell_type": "code",
   "execution_count": 2,
   "id": "10a3ed28-32ce-4120-8437-ded68f849285",
   "metadata": {},
   "outputs": [],
   "source": [
    "#types of arguments -1 positional 2 - keyword 3 - default  4 - Arbitrary\n",
    "#Arguments(we can pass multiple arguments(*)) 5 - Arbitrary Keyword Arguments\n",
    "#(used for multiple keyword arguments(**))                                                      "
   ]
  },
  {
   "cell_type": "code",
   "execution_count": 1,
   "id": "f326622c-74ca-440f-87be-46ec6e67c6c8",
   "metadata": {},
   "outputs": [
    {
     "name": "stdout",
     "output_type": "stream",
     "text": [
      "Hello Rahul, you are 25 years old.\n"
     ]
    }
   ],
   "source": [
    "# positional Aruguments\n",
    "def greet(name, age):\n",
    "    print(f\"Hello {name}, you are {age} years old.\")\n",
    "\n",
    "greet(\"Rahul\", 25)  # सही (Correct)\n",
    "# greet(25, \"Rahul\")  # गलत (Incorrect) - गलत क्रम से अर्थ बदल सकता है।\n"
   ]
  },
  {
   "cell_type": "code",
   "execution_count": 4,
   "id": "94901137-150c-49ee-ab8e-a691d8d7ed7a",
   "metadata": {},
   "outputs": [
    {
     "name": "stdout",
     "output_type": "stream",
     "text": [
      "Hello Rahul, you are 25 years old.\n"
     ]
    }
   ],
   "source": [
    "# Keyword Arguments \n",
    "def greet(name, age):\n",
    "    print(f\"Hello {name}, you are {age} years old.\")\n",
    "\n",
    "greet(age=25, name=\"Rahul\")  # क्रम बदला, फिर भी सही"
   ]
  },
  {
   "cell_type": "code",
   "execution_count": 6,
   "id": "bff19fbb-f5ad-4124-a8c9-4d4e813f6af0",
   "metadata": {},
   "outputs": [
    {
     "name": "stdout",
     "output_type": "stream",
     "text": [
      "Hello Rahul, you are 18 years old.\n",
      "Hello Amit, you are 25 years old.\n"
     ]
    }
   ],
   "source": [
    "# default arguments \n",
    "def greet(name, age=18):  # age का डिफ़ॉल्ट मान 18 है।\n",
    "    print(f\"Hello {name}, you are {age} years old.\")\n",
    "\n",
    "greet(\"Rahul\")   # Output: Hello Rahul, you are 18 years old.\n",
    "greet(\"Amit\", 25)  # Output: Hello Amit, you are 25 years old.\n"
   ]
  },
  {
   "cell_type": "code",
   "execution_count": 8,
   "id": "d391804b-a676-429e-98fc-a846e25110e5",
   "metadata": {},
   "outputs": [
    {
     "name": "stdout",
     "output_type": "stream",
     "text": [
      "15\n",
      "33\n"
     ]
    }
   ],
   "source": [
    "# Variable-length Arguments \n",
    "def add_numbers(*args): #*args टुपल (tuple) के रूप में सभी values को स्टोर करता है\n",
    "    total = sum(args)\n",
    "    print(total)\n",
    "add_numbers(5,10) \n",
    "add_numbers(0,1,7,9,2,3,3,3,5) "
   ]
  },
  {
   "cell_type": "code",
   "execution_count": 1,
   "id": "bb24d312-4ba2-4a14-be97-27877c88e936",
   "metadata": {},
   "outputs": [
    {
     "name": "stdout",
     "output_type": "stream",
     "text": [
      "name: Prasant\n",
      "age:  34\n",
      "classe: 10th\n"
     ]
    }
   ],
   "source": [
    "# Variable length Keyword Arguments(**kwargs)\n",
    "def user_info(**kwargs): \n",
    "    for key, value in kwargs.items(): \n",
    "        print(f\"{key}: {value}\")\n",
    "user_info(name = \"Prasant\", age = \" 34\", classe = \"10th\")        \n"
   ]
  },
  {
   "cell_type": "code",
   "execution_count": 22,
   "id": "b0615ef5-ed93-4f26-8633-ec00b20750f8",
   "metadata": {},
   "outputs": [
    {
     "name": "stdout",
     "output_type": "stream",
     "text": [
      "Hello Rahul, you are 25 years old.\n"
     ]
    }
   ],
   "source": [
    "# Positional-only Arguments \n",
    "def greet(name, age, /):#Without / → Arguments can be passed by position or keyword.\n",
    "                        #With / → Arguments must be passed only by position.\n",
    "    print(f\"Hello {name}, you are {age} years old.\")\n",
    "\n",
    "greet(\"Rahul\", 25)   # सही ✅\n",
    "# greet(name=\"Rahul\", age=25)  # गलत ❌\n",
    " "
   ]
  },
  {
   "cell_type": "code",
   "execution_count": 24,
   "id": "111eff34-e4a7-4a65-8e73-be6594b5de43",
   "metadata": {},
   "outputs": [
    {
     "name": "stdout",
     "output_type": "stream",
     "text": [
      "Hello Rahul, you are 25 years old.\n"
     ]
    }
   ],
   "source": [
    "# Keyword Only \n",
    "def greet(*, name, age):\n",
    "    print(f\"Hello {name}, you are {age} years old.\")\n",
    "\n",
    "# greet(\"Rahul\", 25)  # गलत ❌\n",
    "greet(name=\"Rahul\", age=25)  # सही ✅\n"
   ]
  },
  {
   "cell_type": "markdown",
   "id": "85f1b494-332f-4c86-90dd-acd970f8a084",
   "metadata": {},
   "source": [
    "## Decorators"
   ]
  },
  {
   "cell_type": "code",
   "execution_count": 27,
   "id": "fb69c595-169c-4526-a2b6-19adcbca522e",
   "metadata": {},
   "outputs": [
    {
     "name": "stdout",
     "output_type": "stream",
     "text": [
      "Before the function call\n",
      "Hello, Prasant!\n",
      "After the function call\n"
     ]
    }
   ],
   "source": [
    "# A decorator in Python is a function that modifies or enhances another function without\n",
    "# changing its actual code.\n",
    "# It allows us to add extra functionality (like logging, timing, authentication, etc.) \n",
    "# to a function dynamically.\n",
    "# decorators - 1 - Function Decorator 2 - Class Decorator 3 - Built-in Decorator \n",
    "def decorator_function(original_function):  \n",
    "    def wrapper_function():\n",
    "        print(\"Before the function call\")\n",
    "        original_function()\n",
    "        print(\"After the function call\")\n",
    "    return wrapper_function\n",
    "\n",
    "@decorator_function  # decorator_function(say_hello())\n",
    "def say_hello():\n",
    "    print(\"Hello, Prasant!\")\n",
    "\n",
    "say_hello()"
   ]
  },
  {
   "cell_type": "code",
   "execution_count": 29,
   "id": "0b6becd0-8e6e-48f6-b6cc-e4d7e379cb59",
   "metadata": {},
   "outputs": [
    {
     "name": "stdout",
     "output_type": "stream",
     "text": [
      "Executing say_hello()\n",
      "Hello, World!\n",
      "Finished say_hello()\n"
     ]
    }
   ],
   "source": [
    "# Function Based Decorators\n",
    "def log_decorator(func):\n",
    "    def wrapper():\n",
    "        print(f\"Executing {func.__name__}()\")#func.__name__ is a special attribute read-only hota hai, matlab aap ise modify nahi kar sakte, sirf access kar sakte hain.\n",
    "        func()\n",
    "        print(f\"Finished {func.__name__}()\")\n",
    "    return wrapper\n",
    "\n",
    "@log_decorator\n",
    "def say_hello():\n",
    "    print(\"Hello, World!\")\n",
    "\n",
    "say_hello()\n"
   ]
  },
  {
   "cell_type": "code",
   "execution_count": 4,
   "id": "2d332f44-878e-4992-8a91-38865d92b866",
   "metadata": {},
   "outputs": [
    {
     "name": "stdout",
     "output_type": "stream",
     "text": [
      "Function 'add' started at 23:20:53\n",
      "Function 'add' ended at 23:20:59\n",
      "8\n"
     ]
    }
   ],
   "source": [
    "# Function Decorator with Arguments\n",
    "import time\n",
    "\n",
    "def log_decorator(func):\n",
    "    def wrapper(*args, **kwargs):\n",
    "        print(f\"Function '{func.__name__}' started at {time.strftime('%H:%M:%S')}\")\n",
    "        result = func(*args, **kwargs)\n",
    "        print(f\"Function '{func.__name__}' ended at {time.strftime('%H:%M:%S')}\")\n",
    "        return result\n",
    "    return wrapper\n",
    "\n",
    "@log_decorator\n",
    "def add(a, b):\n",
    "    time.sleep(2)  # Simulating delay\n",
    "    time.sleep(4)\n",
    "    return a + b\n",
    "\n",
    "print(add(5, 3))\n"
   ]
  },
  {
   "cell_type": "code",
   "execution_count": 31,
   "id": "d23a72df-5cc0-40a3-9296-c313d6596a9d",
   "metadata": {},
   "outputs": [
    {
     "name": "stdout",
     "output_type": "stream",
     "text": [
      "Function 'add' executed in 0.000003 seconds\n",
      "8\n"
     ]
    }
   ],
   "source": [
    "import time\n",
    "\n",
    "def log_decorator(func):\n",
    "    def wrapper(*args, **kwargs):\n",
    "        start_time = time.perf_counter()  # Function execution ka start time\n",
    "        result = func(*args, **kwargs)  # Function call\n",
    "        end_time = time.perf_counter()  # Function execution ka end time\n",
    "        execution_time = end_time - start_time  # Total time calculate karna\n",
    "        \n",
    "        print(f\"Function '{func.__name__}' executed in {execution_time:.6f} seconds\")\n",
    "# : Ye format specifier ka start hai.\n",
    "\n",
    "# .6 Ye batata hai ki decimal point ke baad 6 digits tak number display karna hai.\n",
    "\n",
    "# f Ye batata hai ki number ko floating-point format mein display karna hai.        \n",
    "        return result\n",
    "    return wrapper\n",
    "\n",
    "@log_decorator\n",
    "def add(a, b):\n",
    "    return a + b  # Sleep nahi diya, sirf execute hone ka time nikal rahe hain\n",
    "\n",
    "print(add(5, 3))\n"
   ]
  },
  {
   "cell_type": "code",
   "execution_count": null,
   "id": "e5c987c0-5372-4fb2-9475-63d8ad19b9f2",
   "metadata": {},
   "outputs": [],
   "source": [
    "# Decorators with Arguments (Repeater Decorator)\n",
    "def repeat(n):\n",
    "    def decorator(func):\n",
    "        def wrapper(*args, **kwargs):\n",
    "            for _ in range(n):\n",
    "                func(*args, **kwargs)\n",
    "        return wrapper\n",
    "    return decorator\n",
    "\n",
    "@repeat(3)  # Function will run 3 times\n",
    "def greet():\n",
    "    print(\"Hello!\")\n",
    "\n",
    "greet()\n"
   ]
  },
  {
   "cell_type": "code",
   "execution_count": 35,
   "id": "6d4eaa0d-58c1-46cf-940a-5ace673b7418",
   "metadata": {},
   "outputs": [
    {
     "name": "stdout",
     "output_type": "stream",
     "text": [
      "Calling say_hello()\n",
      "Hello, World!\n"
     ]
    }
   ],
   "source": [
    "# class based Decorators \n",
    "class LogDecorator:\n",
    "    def __init__(self, func):\n",
    "        self.func = func# Function ko store karo\n",
    "\n",
    "    def __call__(self, *args, **kwargs):\n",
    "        print(f\"Calling {self.func.__name__}()\")# Function call se pehle message print karo\n",
    "        return self.func(*args, **kwargs)# Function ko execute karo\n",
    "\n",
    "@LogDecorator\n",
    "def say_hello():\n",
    "    print(\"Hello, World!\")\n",
    "\n",
    "say_hello()\n"
   ]
  },
  {
   "cell_type": "code",
   "execution_count": 37,
   "id": "c024dc1d-5ffe-4690-970b-9ab284af807d",
   "metadata": {},
   "outputs": [
    {
     "name": "stdout",
     "output_type": "stream",
     "text": [
      "Calling say_hello()\n",
      "Hello, World!\n"
     ]
    }
   ],
   "source": [
    "class LogDecorator:\n",
    "    def __init__(self, func):\n",
    "        self.func = func# Function ko store karo\n",
    "\n",
    "    def __call__(self):\n",
    "        print(f\"Calling {self.func.__name__}()\")# Function call se pehle message print karo\n",
    "        return self.func()# Function ko execute karo\n",
    "\n",
    "@LogDecorator\n",
    "def say_hello():\n",
    "    print(\"Hello, World!\")\n",
    "\n",
    "say_hello()"
   ]
  },
  {
   "cell_type": "code",
   "execution_count": 39,
   "id": "70d6b6b6-97b5-4a8e-b4b6-fd7078180786",
   "metadata": {},
   "outputs": [
    {
     "name": "stdout",
     "output_type": "stream",
     "text": [
      "Executing process()\n",
      "Processing complete.\n",
      "Time taken: 1.0013 sec\n"
     ]
    }
   ],
   "source": [
    "# chaining multiple Decorators \n",
    "#Decorators bottom-up order mein apply hote hain\n",
    "import time\n",
    "\n",
    "def timer(func):\n",
    "    def wrapper(*args, **kwargs):\n",
    "        start = time.time()\n",
    "        result = func(*args, **kwargs)\n",
    "        end = time.time()\n",
    "        print(f\"Time taken: {end - start:.4f} sec\")\n",
    "        return result\n",
    "    return wrapper\n",
    "\n",
    "def logger(func):\n",
    "    def wrapper(*args, **kwargs):\n",
    "        print(f\"Executing {func.__name__}()\")\n",
    "        return func(*args, **kwargs)\n",
    "    return wrapper\n",
    "\n",
    "@timer\n",
    "@logger\n",
    "def process(): #process = timer(logger(process))\n",
    "    time.sleep(1)\n",
    "    print(\"Processing complete.\")\n",
    "\n",
    "process()\n"
   ]
  },
  {
   "cell_type": "markdown",
   "id": "d23327e7-1cbc-439c-a2dc-7b354dad9bd7",
   "metadata": {},
   "source": [
    "## Exception Handling "
   ]
  },
  {
   "cell_type": "code",
   "execution_count": 6,
   "id": "5c744f6f-ce95-4a81-9233-18ba3322108e",
   "metadata": {},
   "outputs": [
    {
     "name": "stdout",
     "output_type": "stream",
     "text": [
      "Error: Cannot divide by zero!\n"
     ]
    }
   ],
   "source": [
    "try:\n",
    "    result = 10 / 0  # Error: Divide by zero\n",
    "except ZeroDivisionError:\n",
    "    print(\"Error: Cannot divide by zero!\")"
   ]
  },
  {
   "cell_type": "code",
   "execution_count": 7,
   "id": "18179ca3-5426-4bda-9328-cead341f5d8a",
   "metadata": {},
   "outputs": [
    {
     "name": "stdin",
     "output_type": "stream",
     "text": [
      "Enter a number:  10\n"
     ]
    },
    {
     "name": "stdout",
     "output_type": "stream",
     "text": [
      "1.0\n"
     ]
    }
   ],
   "source": [
    "try:\n",
    "    num = int(input(\"Enter a number: \"))  # User input\n",
    "    result = 10 / num  # ZeroDivisionError ho sakta hai\n",
    "except ZeroDivisionError:\n",
    "    print(\"Error: Cannot divide by zero!\")\n",
    "except ValueError:\n",
    "    print(\"Error: Invalid input! Please enter a number.\")\n",
    "print(result)"
   ]
  },
  {
   "cell_type": "code",
   "execution_count": 8,
   "id": "3dd50ebe-7c0c-4028-b214-982c59551e75",
   "metadata": {},
   "outputs": [
    {
     "name": "stdout",
     "output_type": "stream",
     "text": [
      "File not found!\n",
      "Execution complete.\n"
     ]
    }
   ],
   "source": [
    "try:\n",
    "    file = open(\"test.txt\", \"r\")\n",
    "except FileNotFoundError:\n",
    "    print(\"File not found!\")\n",
    "finally:\n",
    "    print(\"Execution complete.\")  # Ye hamesha chalega\n"
   ]
  },
  {
   "cell_type": "code",
   "execution_count": 9,
   "id": "2b68a5e3-b92c-489e-9780-35035ad949a7",
   "metadata": {},
   "outputs": [
    {
     "name": "stdout",
     "output_type": "stream",
     "text": [
      "7\n"
     ]
    }
   ],
   "source": [
    "add = lambda x,y: x+y\n",
    "print(add(2,5))"
   ]
  },
  {
   "cell_type": "code",
   "execution_count": 10,
   "id": "7a4ef9d0-c64f-4403-a9c6-10459c61a0cf",
   "metadata": {},
   "outputs": [
    {
     "name": "stdout",
     "output_type": "stream",
     "text": [
      "Original: [[100, 2, 3], [4, 5, 6]]\n",
      "Shallow Copy: [[100, 2, 3], [4, 5, 6]]\n"
     ]
    }
   ],
   "source": [
    "import copy\n",
    "\n",
    "original = [[1, 2, 3], [4, 5, 6]]\n",
    "shallow = copy.copy(original)  # Shallow Copy\n",
    "\n",
    "shallow[0][0] = 100  # Changing nested list\n",
    "\n",
    "print(\"Original:\", original)\n",
    "print(\"Shallow Copy:\", shallow)\n"
   ]
  },
  {
   "cell_type": "code",
   "execution_count": 11,
   "id": "36fcfc5d-859b-4b07-ac42-9ee19edabee0",
   "metadata": {},
   "outputs": [
    {
     "name": "stdout",
     "output_type": "stream",
     "text": [
      "Original: [[1, 2, 3], [4, 5, 6]]\n",
      "Deep Copy: [[100, 2, 3], [4, 5, 6]]\n"
     ]
    }
   ],
   "source": [
    "import copy\n",
    "\n",
    "original = [[1, 2, 3], [4, 5, 6]]\n",
    "deep = copy.deepcopy(original)  # Deep Copy\n",
    "\n",
    "deep[0][0] = 100  # Changing nested list\n",
    "\n",
    "print(\"Original:\", original)\n",
    "print(\"Deep Copy:\", deep)\n"
   ]
  },
  {
   "cell_type": "code",
   "execution_count": 12,
   "id": "376c3548-b7bb-49a7-91ef-2d7a7509fafe",
   "metadata": {
    "scrolled": true
   },
   "outputs": [
    {
     "name": "stdout",
     "output_type": "stream",
     "text": [
      "0\n",
      "1\n",
      "4\n"
     ]
    }
   ],
   "source": [
    "squares = (x*x for x in range(10))  # Generator\n",
    "print(next(squares))  # Output: 0\n",
    "print(next(squares))  # Output: 1\n",
    "print(next(squares))"
   ]
  },
  {
   "cell_type": "markdown",
   "id": "01f43b1e-336e-4f3c-bf8a-b2fe911ec8cb",
   "metadata": {},
   "source": [
    "## factorial"
   ]
  },
  {
   "cell_type": "code",
   "execution_count": 14,
   "id": "4253aefc-9bb1-4bd1-9799-1824214b0e47",
   "metadata": {},
   "outputs": [
    {
     "data": {
      "text/plain": [
       "1"
      ]
     },
     "execution_count": 14,
     "metadata": {},
     "output_type": "execute_result"
    }
   ],
   "source": [
    "# Recursion\n",
    "def factorial(n): \n",
    "    if n==0 or n==1: \n",
    "        return 1 \n",
    "    else: \n",
    "        return n*factorial(n-1)\n",
    "factorial(0)"
   ]
  },
  {
   "cell_type": "code",
   "execution_count": 15,
   "id": "e690c4b8-842e-4e6d-b26f-5c64e1387d6b",
   "metadata": {},
   "outputs": [
    {
     "data": {
      "text/plain": [
       "120"
      ]
     },
     "execution_count": 15,
     "metadata": {},
     "output_type": "execute_result"
    }
   ],
   "source": [
    "# for loop\n",
    "def factorial(n): \n",
    "    fact = 1\n",
    "    for i in range(1,n+1): \n",
    "        fact*=i\n",
    "    return fact\n",
    "factorial(5)"
   ]
  },
  {
   "cell_type": "code",
   "execution_count": 16,
   "id": "f3d602fc-5be0-4422-8072-edd64368a957",
   "metadata": {},
   "outputs": [
    {
     "name": "stdout",
     "output_type": "stream",
     "text": [
      "120\n"
     ]
    }
   ],
   "source": [
    "# while loop \n",
    "def factorial(n): \n",
    "    fact = 1\n",
    "    while n>1:\n",
    "        fact *=n\n",
    "        n-=1\n",
    "    return fact\n",
    "print(factorial(5))"
   ]
  },
  {
   "cell_type": "code",
   "execution_count": 43,
   "id": "9fba303d-ccc9-4c25-a881-4815c73dd943",
   "metadata": {},
   "outputs": [
    {
     "name": "stdout",
     "output_type": "stream",
     "text": [
      "120\n"
     ]
    }
   ],
   "source": [
    "# Using math.factorial()\n",
    "import math \n",
    "print(math.factorial(5))"
   ]
  },
  {
   "cell_type": "code",
   "execution_count": 53,
   "id": "5dbe9cff-69ee-4973-bb28-9da8d265c083",
   "metadata": {},
   "outputs": [
    {
     "name": "stdout",
     "output_type": "stream",
     "text": [
      "120\n"
     ]
    }
   ],
   "source": [
    "# using reduce function(reduce(function, iterable, initializer))\n",
    "#reduce is a function that takes an iterable (like a list or range) and applies a\n",
    "#given function cumulatively to its items, from left to right, to reduce the iterable\n",
    "#to a single value. It combines elements step by step, using the result of each step as\n",
    "#input for the next, until a final result is produced\n",
    "from functools import reduce\n",
    "def factorial(n): \n",
    "    return reduce(lambda x,y: x*y, range(1,n+1),1)\n",
    "print(factorial(5))    "
   ]
  },
  {
   "cell_type": "code",
   "execution_count": 59,
   "id": "cfbadaab-de06-4126-b873-e4bbb4a2ac69",
   "metadata": {},
   "outputs": [
    {
     "name": "stdout",
     "output_type": "stream",
     "text": [
      "120\n"
     ]
    }
   ],
   "source": [
    "# list comprehension ([expression for item in iterable if condition])\n",
    "def factorial(n): \n",
    "    fact = 1 \n",
    "    [fact:=fact*i for i in range(1,n+1)] # :=(walrus operator)\n",
    "    return fact\n",
    "print(factorial(5))    "
   ]
  },
  {
   "cell_type": "code",
   "execution_count": 92,
   "id": "1a193a0a-dc9a-4bdf-b2b4-5be762108e9f",
   "metadata": {},
   "outputs": [
    {
     "name": "stdout",
     "output_type": "stream",
     "text": [
      "0\n"
     ]
    }
   ],
   "source": [
    "# using numpy \n",
    "import numpy as np \n",
    "def factorial(n): \n",
    "    return np.prod(np.arrange(1,n+1))\n",
    "print(0)    "
   ]
  },
  {
   "cell_type": "code",
   "execution_count": 94,
   "id": "2b513e13-21c6-4476-b442-f7238d7623da",
   "metadata": {},
   "outputs": [
    {
     "name": "stdout",
     "output_type": "stream",
     "text": [
      "24\n"
     ]
    }
   ],
   "source": [
    "# lambda function \n",
    "factorial = lambda n: 1 if n==0 else n*factorial(n-1)\n",
    "print(factorial(4))"
   ]
  },
  {
   "cell_type": "code",
   "execution_count": 98,
   "id": "532130a8-a69c-4c99-b60c-720a4b1bc987",
   "metadata": {},
   "outputs": [
    {
     "name": "stdout",
     "output_type": "stream",
     "text": [
      "120\n"
     ]
    }
   ],
   "source": [
    "# using sympy Library \n",
    "from sympy import factorial \n",
    "print(factorial(5))"
   ]
  },
  {
   "cell_type": "markdown",
   "id": "b7ea71c6-45a4-440d-b110-f8da5523b7f0",
   "metadata": {},
   "source": [
    "## Walrus Operator"
   ]
  },
  {
   "cell_type": "code",
   "execution_count": 65,
   "id": "4a3e09a0-0750-45a6-91d3-57d60509c265",
   "metadata": {},
   "outputs": [
    {
     "name": "stdout",
     "output_type": "stream",
     "text": [
      "10\n"
     ]
    }
   ],
   "source": [
    "x = 8\n",
    "if (x := 10) > 5:\n",
    "    print(x)  # Output: 10"
   ]
  },
  {
   "cell_type": "code",
   "execution_count": 69,
   "id": "d4b265cc-1cc1-43c2-8cc6-3dc00473431f",
   "metadata": {},
   "outputs": [
    {
     "name": "stdin",
     "output_type": "stream",
     "text": [
      "Enter something:  Prasant\n"
     ]
    },
    {
     "name": "stdout",
     "output_type": "stream",
     "text": [
      "Prasant\n"
     ]
    },
    {
     "name": "stdin",
     "output_type": "stream",
     "text": [
      "Enter something:  sahu\n"
     ]
    },
    {
     "name": "stdout",
     "output_type": "stream",
     "text": [
      "sahu\n"
     ]
    },
    {
     "name": "stdin",
     "output_type": "stream",
     "text": [
      "Enter something:  exit\n"
     ]
    }
   ],
   "source": [
    "while (line := input(\"Enter something: \")) != \"exit\":\n",
    "    print(line)"
   ]
  },
  {
   "cell_type": "code",
   "execution_count": 78,
   "id": "a44a2606-0a1a-44c2-9a67-6ca5e055ec55",
   "metadata": {},
   "outputs": [
    {
     "name": "stdout",
     "output_type": "stream",
     "text": [
      "4\n"
     ]
    }
   ],
   "source": [
    "x = 5\n",
    "if(x:=4)<5:\n",
    "    print(x)"
   ]
  },
  {
   "cell_type": "code",
   "execution_count": 86,
   "id": "854ad63d-c3d1-476c-b60b-0c92dd017db0",
   "metadata": {},
   "outputs": [
    {
     "name": "stdin",
     "output_type": "stream",
     "text": [
      "enter a line:  a\n"
     ]
    },
    {
     "name": "stdout",
     "output_type": "stream",
     "text": [
      "i'm the king\n"
     ]
    },
    {
     "name": "stdin",
     "output_type": "stream",
     "text": [
      "enter a line:  c\n",
      "enter a line:  prasant\n"
     ]
    },
    {
     "name": "stdout",
     "output_type": "stream",
     "text": [
      "prasant\n"
     ]
    },
    {
     "name": "stdin",
     "output_type": "stream",
     "text": [
      "enter a line:  exit\n"
     ]
    }
   ],
   "source": [
    "while(line := input(\"enter a line: \")) ==\"a\": \n",
    "    print(\"i'm the king\")\n",
    "while(line:= input(\"enter a line: \")) != \"exit\": \n",
    "    print(line)"
   ]
  },
  {
   "cell_type": "markdown",
   "id": "5af2e5f5-b64f-400a-ba28-af7c1a2dbe63",
   "metadata": {},
   "source": [
    "## List Comprehension"
   ]
  },
  {
   "cell_type": "code",
   "execution_count": 104,
   "id": "4aeb6fcd-3bf3-45a1-a965-caa09d4d4323",
   "metadata": {},
   "outputs": [
    {
     "name": "stdout",
     "output_type": "stream",
     "text": [
      "[1, 4, 9, 16, 25, 36]\n"
     ]
    }
   ],
   "source": [
    "numbers = [1,2,3,4,5,6]\n",
    "squares = [x**2 for x in numbers]\n",
    "print(squares)"
   ]
  },
  {
   "cell_type": "code",
   "execution_count": 108,
   "id": "358db273-288b-4c57-af35-70023495497b",
   "metadata": {},
   "outputs": [
    {
     "name": "stdout",
     "output_type": "stream",
     "text": [
      "[27, 216]\n"
     ]
    }
   ],
   "source": [
    "numbers = [1,2,3,4,5,6]\n",
    "squares = [x**3 for x in numbers if x%3==0]\n",
    "print(squares)"
   ]
  },
  {
   "cell_type": "code",
   "execution_count": 112,
   "id": "2f452664-3135-4f62-94d2-bd94bcf498fd",
   "metadata": {},
   "outputs": [
    {
     "name": "stdout",
     "output_type": "stream",
     "text": [
      "[1, 2, 3, 4, 5, 6, 7, 8, 9]\n"
     ]
    }
   ],
   "source": [
    "matrix = [[1, 2, 3], [4, 5, 6], [7, 8, 9]]\n",
    "flatened = [num for row in matrix for num in row]\n",
    "print(flatened)"
   ]
  },
  {
   "cell_type": "code",
   "execution_count": 114,
   "id": "bb4d643a-6b23-40c8-8a03-e8fa1c38a4f8",
   "metadata": {},
   "outputs": [
    {
     "name": "stdout",
     "output_type": "stream",
     "text": [
      "['BANANA', 'CHERRY']\n"
     ]
    }
   ],
   "source": [
    "words = [\"apple\", \"banana\", \"cherry\", \"date\"]\n",
    "uppercase_words = [word.upper() for word in words if len(word) > 5]\n",
    "print(uppercase_words)"
   ]
  },
  {
   "cell_type": "code",
   "execution_count": null,
   "id": "f51bb458-745c-4e4d-a036-fd7702c228b7",
   "metadata": {},
   "outputs": [],
   "source": []
  }
 ],
 "metadata": {
  "kernelspec": {
   "display_name": "Python 3 (ipykernel)",
   "language": "python",
   "name": "python3"
  },
  "language_info": {
   "codemirror_mode": {
    "name": "ipython",
    "version": 3
   },
   "file_extension": ".py",
   "mimetype": "text/x-python",
   "name": "python",
   "nbconvert_exporter": "python",
   "pygments_lexer": "ipython3",
   "version": "3.12.7"
  }
 },
 "nbformat": 4,
 "nbformat_minor": 5
}
