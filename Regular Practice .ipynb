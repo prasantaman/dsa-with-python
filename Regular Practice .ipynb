{
 "cells": [
  {
   "cell_type": "code",
   "execution_count": 7,
   "id": "0d465ac1-6a78-44ac-a61a-c55f2079736b",
   "metadata": {},
   "outputs": [
    {
     "name": "stdout",
     "output_type": "stream",
     "text": [
      "1 \n",
      "2 2 \n",
      "3 3 3 \n",
      "4 4 4 4 \n",
      "5 5 5 5 5 \n"
     ]
    }
   ],
   "source": [
    "n = 5 \n",
    "for i in range(1,n+1): \n",
    "    for c in range(1,i+1): \n",
    "        print(i, end = \" \")\n",
    "    print()   "
   ]
  },
  {
   "cell_type": "code",
   "execution_count": 9,
   "id": "959dc71f-9084-4145-aac6-8b3abe59d105",
   "metadata": {},
   "outputs": [
    {
     "name": "stdout",
     "output_type": "stream",
     "text": [
      "1 \n",
      "2 3 \n",
      "4 5 6 \n",
      "7 8 9 10 \n",
      "11 12 13 14 15 \n"
     ]
    }
   ],
   "source": [
    "n = 5 \n",
    "s = 1\n",
    "for i in range(1,n+1): \n",
    "    for c in range(1,i+1): \n",
    "        print(s, end = \" \")\n",
    "        s+=1\n",
    "    print()    "
   ]
  },
  {
   "cell_type": "code",
   "execution_count": 11,
   "id": "cdaed087-89c7-4a58-b466-538834100810",
   "metadata": {},
   "outputs": [
    {
     "name": "stdout",
     "output_type": "stream",
     "text": [
      "1 \n",
      "1 1 \n",
      "1 1 1 \n",
      "1 1 1 1 \n",
      "1 1 1 1 1 \n"
     ]
    }
   ],
   "source": [
    "n = 5 \n",
    "for i in range(1,n+1): \n",
    "    for c in range(1,i+1): \n",
    "        print(\"1\", end =\" \")\n",
    "    print()    "
   ]
  },
  {
   "cell_type": "code",
   "execution_count": 12,
   "id": "1d470615-ebb4-44f3-97b7-23ad6ab2b740",
   "metadata": {},
   "outputs": [
    {
     "name": "stdout",
     "output_type": "stream",
     "text": [
      "* \n",
      "* * \n",
      "* * * \n",
      "* * * * \n",
      "* * * * * \n"
     ]
    }
   ],
   "source": [
    "n = 5 \n",
    "for i in range(1,n+1): \n",
    "    for c in range(1,i+1): \n",
    "        print(\"*\", end = \" \")\n",
    "    print()    "
   ]
  },
  {
   "cell_type": "code",
   "execution_count": 14,
   "id": "049d125d-7b42-422e-82a0-4782abd34eae",
   "metadata": {},
   "outputs": [
    {
     "name": "stdout",
     "output_type": "stream",
     "text": [
      "* * * * * \n",
      "* * * * \n",
      "* * * \n",
      "* * \n",
      "* \n"
     ]
    }
   ],
   "source": [
    "n = 5 \n",
    "for i in range(n,0,-1): \n",
    "    for c in range(1,i+1): \n",
    "        print(\"*\", end = \" \")\n",
    "    print()    "
   ]
  },
  {
   "cell_type": "code",
   "execution_count": 16,
   "id": "8eb2ce7d-e681-408c-9956-c37c9d0c0877",
   "metadata": {},
   "outputs": [
    {
     "name": "stdout",
     "output_type": "stream",
     "text": [
      "* \n",
      "* * \n",
      "* * * \n",
      "* * * * \n",
      "* * * * * \n",
      "* * * * \n",
      "* * * \n",
      "* * \n",
      "* \n"
     ]
    }
   ],
   "source": [
    "n = 5 \n",
    "for i in range(1,n+1): \n",
    "    for c in range(1,i+1): \n",
    "        print(\"*\", end = \" \")\n",
    "    print()\n",
    "for i in range(n-1, 0,-1): \n",
    "    for c in range(1,i+1): \n",
    "        print(\"*\", end = \" \")\n",
    "    print()\n"
   ]
  },
  {
   "cell_type": "code",
   "execution_count": 18,
   "id": "59d6f836-15a1-4351-895f-70a5d2131f9c",
   "metadata": {},
   "outputs": [
    {
     "name": "stdout",
     "output_type": "stream",
     "text": [
      "* \n",
      "* * \n",
      "* * * \n",
      "* * * * \n",
      "* * * \n",
      "* * \n",
      "* \n",
      "\n"
     ]
    }
   ],
   "source": [
    "n = 8 \n",
    "for i in range(1,n+1): \n",
    "    if(i<=4): \n",
    "        for c in range(1,i+1): \n",
    "            print(\"*\", end = \" \")\n",
    "        print() \n",
    "    else: \n",
    "        for c in range(n-i):# \n",
    "            print(\"*\", end  = \" \")\n",
    "        print()    \n",
    "        \n",
    "            "
   ]
  },
  {
   "cell_type": "code",
   "execution_count": 22,
   "id": "2fc5e049-e8af-4981-acaa-06b977b1e2a3",
   "metadata": {},
   "outputs": [
    {
     "name": "stdout",
     "output_type": "stream",
     "text": [
      "1 \n",
      "2 2 \n",
      "3 3 3 \n",
      "4 4 4 4 \n",
      "5 5 5 \n",
      "6 6 \n",
      "7 \n",
      "\n"
     ]
    }
   ],
   "source": [
    "n = 8 \n",
    "for i in range(1,n+1): \n",
    "    if i<=4: \n",
    "        for c in range(1, i+1): \n",
    "            print(i, end = \" \")\n",
    "        print() \n",
    "    else: \n",
    "        for c in range(n-i): \n",
    "            print(i, end = \" \")\n",
    "        print()    \n"
   ]
  },
  {
   "cell_type": "code",
   "execution_count": 27,
   "id": "ded7b04c-7d92-45d5-90c0-e463fa283eed",
   "metadata": {},
   "outputs": [
    {
     "name": "stdout",
     "output_type": "stream",
     "text": [
      "1 \n",
      "2 2 \n",
      "3 3 3 \n",
      "4 4 4 4 \n",
      "1 1 1 \n",
      "2 2 \n",
      "3 \n",
      "\n"
     ]
    }
   ],
   "source": [
    "n = 4 \n",
    "for i in range(1,n+1): \n",
    "    for c in range(1,i+1): \n",
    "        print(i, end = \" \")\n",
    "    print() \n",
    "for i in range(1,n+1): \n",
    "    \n",
    "    for c in range(n-i): \n",
    "        print(i, end = \" \")\n",
    "    print()    \n",
    "     "
   ]
  },
  {
   "cell_type": "code",
   "execution_count": 28,
   "id": "ac5cf897-be13-424e-98d4-17ad88591256",
   "metadata": {},
   "outputs": [
    {
     "name": "stdout",
     "output_type": "stream",
     "text": [
      "    *  \n",
      "   * *  \n",
      "  * * *  \n",
      " * * * *  \n",
      "* * * * *  \n"
     ]
    }
   ],
   "source": [
    "n = 5 \n",
    "for i in range(n): \n",
    "    print(\" \" *(n-i-1) + \"* \" * (i+1), end = \" \")\n",
    "    print()"
   ]
  },
  {
   "cell_type": "code",
   "execution_count": 29,
   "id": "d37135f6-4132-4406-b4e4-46f901a10c4f",
   "metadata": {},
   "outputs": [
    {
     "name": "stdout",
     "output_type": "stream",
     "text": [
      "    *  \n",
      "   * *  \n",
      "  * * *  \n",
      " * * * *  \n",
      "* * * * *  \n"
     ]
    }
   ],
   "source": [
    "n = 5 \n",
    "for i in range(1,n+1): \n",
    "    print(\" \"* (n-i) + \"* \" * i, end = \" \")\n",
    "    print()"
   ]
  },
  {
   "cell_type": "code",
   "execution_count": 32,
   "id": "9337f1fe-c4fe-4872-8dd9-94b8b0b52e00",
   "metadata": {},
   "outputs": [
    {
     "name": "stdout",
     "output_type": "stream",
     "text": [
      "    * \n",
      "   ** \n",
      "  *** \n",
      " **** \n",
      "***** \n"
     ]
    }
   ],
   "source": [
    "n = 5 \n",
    "for i in range(n): \n",
    "    print(\" \"*(n-i-1) + \"*\"*(i+1), end = \" \")\n",
    "    print()"
   ]
  },
  {
   "cell_type": "code",
   "execution_count": 37,
   "id": "3f213397-9b32-4457-b198-4bdf72f4961e",
   "metadata": {},
   "outputs": [
    {
     "name": "stdout",
     "output_type": "stream",
     "text": [
      " ******* \n",
      "  ***** \n",
      "   *** \n",
      "    * \n",
      "   *** \n",
      "  ***** \n",
      " ******* \n"
     ]
    }
   ],
   "source": [
    "n = 4 \n",
    "for i in range(n,0,-1): \n",
    "    print(\" \"*(n-i), \"*\" *(2*i-1), end = \" \")\n",
    "    print()\n",
    "for i in range(2,n+1): \n",
    "    print(\" \"*(n-i), \"*\" * (2*i-1), end = \" \")\n",
    "    print()\n",
    "    "
   ]
  },
  {
   "cell_type": "code",
   "execution_count": null,
   "id": "cde2e2fc-e17a-4385-b16b-70945d2ea80d",
   "metadata": {},
   "outputs": [],
   "source": []
  }
 ],
 "metadata": {
  "kernelspec": {
   "display_name": "Python 3 (ipykernel)",
   "language": "python",
   "name": "python3"
  },
  "language_info": {
   "codemirror_mode": {
    "name": "ipython",
    "version": 3
   },
   "file_extension": ".py",
   "mimetype": "text/x-python",
   "name": "python",
   "nbconvert_exporter": "python",
   "pygments_lexer": "ipython3",
   "version": "3.12.7"
  }
 },
 "nbformat": 4,
 "nbformat_minor": 5
}
